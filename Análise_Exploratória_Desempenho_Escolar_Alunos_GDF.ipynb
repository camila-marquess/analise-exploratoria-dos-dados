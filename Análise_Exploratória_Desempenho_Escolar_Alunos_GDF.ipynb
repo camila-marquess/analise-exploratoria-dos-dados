{
  "nbformat": 4,
  "nbformat_minor": 0,
  "metadata": {
    "colab": {
      "name": "Análise Exploratória - Desempenho Escolar Alunos GDF",
      "provenance": [],
      "include_colab_link": true
    },
    "kernelspec": {
      "name": "python3",
      "display_name": "Python 3"
    }
  },
  "cells": [
    {
      "cell_type": "markdown",
      "metadata": {
        "id": "view-in-github",
        "colab_type": "text"
      },
      "source": [
        "<a href=\"https://colab.research.google.com/github/camila-marquess/analise-exploratoria-dos-dados/blob/master/An%C3%A1lise_Explorat%C3%B3ria_Desempenho_Escolar_Alunos_GDF.ipynb\" target=\"_parent\"><img src=\"https://colab.research.google.com/assets/colab-badge.svg\" alt=\"Open In Colab\"/></a>"
      ]
    },
    {
      "cell_type": "markdown",
      "metadata": {
        "id": "baWFjwq_rIkB",
        "colab_type": "text"
      },
      "source": [
        "# Análise Exploratória de Dados \n",
        "\n",
        "\n",
        "---\n",
        "Dataset: Desempenho Escolar Alunos GDF\n",
        "\n",
        "\n",
        "\n",
        "---\n",
        "\n",
        "\n",
        "\n"
      ]
    },
    {
      "cell_type": "markdown",
      "metadata": {
        "id": "3P5GmzLZrxux",
        "colab_type": "text"
      },
      "source": [
        "## Leitura do Dataset:"
      ]
    },
    {
      "cell_type": "code",
      "metadata": {
        "id": "VxU98DFkIyTQ",
        "colab_type": "code",
        "outputId": "5311dab7-615b-49ce-8a87-e1bedb77f934",
        "colab": {
          "base_uri": "https://localhost:8080/",
          "height": 239
        }
      },
      "source": [
        "import pandas as pd\n",
        "import numpy as np\n",
        "import matplotlib.pyplot as plt\n",
        "import zipfile\n",
        "import warnings\n",
        "\n",
        "warnings.filterwarnings('ignore')\n",
        "\n",
        "def get_data():\n",
        "    \n",
        "  \n",
        "    !wget http://dados.df.gov.br/dataset/b8436049-44e7-4224-95b4-224718a4b166/resource/3e654a9d-0647-4e39-930e-7cd07faec888/download/dados-abertos---desempenho-escolar20180515160111.zip\n",
        "\n",
        "    with zipfile.ZipFile('dados-abertos---desempenho-escolar20180515160111.zip', 'r') as zip_ref:\n",
        "        zip_ref.extractall()\n",
        "\n",
        "    return pd.read_csv('dados abertos - desempenho escolar_20180515_160111.csv',sep=';',encoding='iso-8859-1')\n",
        "\n",
        "df = get_data()"
      ],
      "execution_count": 0,
      "outputs": [
        {
          "output_type": "stream",
          "text": [
            "--2020-04-15 20:06:46--  http://dados.df.gov.br/dataset/b8436049-44e7-4224-95b4-224718a4b166/resource/3e654a9d-0647-4e39-930e-7cd07faec888/download/dados-abertos---desempenho-escolar20180515160111.zip\n",
            "Resolving dados.df.gov.br (dados.df.gov.br)... 131.72.222.17\n",
            "Connecting to dados.df.gov.br (dados.df.gov.br)|131.72.222.17|:80... connected.\n",
            "HTTP request sent, awaiting response... 200 OK\n",
            "Length: 99777290 (95M) [application/zip]\n",
            "Saving to: ‘dados-abertos---desempenho-escolar20180515160111.zip.1’\n",
            "\n",
            "dados-abertos---des 100%[===================>]  95.15M  8.74MB/s    in 13s     \n",
            "\n",
            "2020-04-15 20:06:59 (7.56 MB/s) - ‘dados-abertos---desempenho-escolar20180515160111.zip.1’ saved [99777290/99777290]\n",
            "\n"
          ],
          "name": "stdout"
        }
      ]
    },
    {
      "cell_type": "markdown",
      "metadata": {
        "id": "Hi9bW70EOO40",
        "colab_type": "text"
      },
      "source": [
        "#Função utilizada para padronizar as notas dos(as) alunos(as) para 0 - 10."
      ]
    },
    {
      "cell_type": "code",
      "metadata": {
        "id": "FtJddr1Ww997",
        "colab_type": "code",
        "colab": {}
      },
      "source": [
        "def padronizacao (x):\n",
        "  if x > 10:\n",
        "    return x / 10\n",
        "  else:\n",
        "    return x\n",
        "\n",
        "df['nota_bimestral'] = df['nota_bimestral'].apply(padronizacao)"
      ],
      "execution_count": 0,
      "outputs": []
    },
    {
      "cell_type": "markdown",
      "metadata": {
        "id": "bwp2EbeKJf5e",
        "colab_type": "text"
      },
      "source": [
        "# Verificando a quantidade de linhas e colunas do dataset."
      ]
    },
    {
      "cell_type": "code",
      "metadata": {
        "id": "47LnnjqxJkz7",
        "colab_type": "code",
        "colab": {}
      },
      "source": [
        "df.shape"
      ],
      "execution_count": 0,
      "outputs": []
    },
    {
      "cell_type": "markdown",
      "metadata": {
        "id": "BiN6W8bmKH1P",
        "colab_type": "text"
      },
      "source": [
        "O dataset tem 23 colunas e 12779084 linhas no total."
      ]
    },
    {
      "cell_type": "markdown",
      "metadata": {
        "id": "Gx_qVosQKQo0",
        "colab_type": "text"
      },
      "source": [
        "# Verificando os nomes das colunas: "
      ]
    },
    {
      "cell_type": "code",
      "metadata": {
        "id": "egfzZ9sdKAxd",
        "colab_type": "code",
        "colab": {}
      },
      "source": [
        "df.columns"
      ],
      "execution_count": 0,
      "outputs": []
    },
    {
      "cell_type": "markdown",
      "metadata": {
        "id": "17C2HIoPK7VU",
        "colab_type": "text"
      },
      "source": [
        "O nome das colunas é: cod_coordenacao_regional, coordenacao_regional, cod_escola, escola, cod_curso, curso, cod_serie, serie, cod_turno, turno,cod_turma, turma, cod_aluno, bimestre, cod_disciplina, disciplina,nota_bimestral, aulas_bimestre, faltas_bimestre, faltas_justificadas_bimestre,aulas_globalizadas, faltas_globalizadas e faltas_justificadas_globalizadas."
      ]
    },
    {
      "cell_type": "markdown",
      "metadata": {
        "id": "huMFvYvTL2eG",
        "colab_type": "text"
      },
      "source": [
        "# Qual turno de aula tem alunos com notas finais maiores? "
      ]
    },
    {
      "cell_type": "code",
      "metadata": {
        "id": "5sYqN1WSmc8d",
        "colab_type": "code",
        "outputId": "4c7b7f3c-70b5-460e-c04d-6af9e88d5ce2",
        "colab": {
          "base_uri": "https://localhost:8080/",
          "height": 112
        }
      },
      "source": [
        "(\n",
        "    df[(df.bimestre == 'resultado final')]\n",
        "    .groupby('turno')\n",
        "    .agg({'nota_bimestral':'mean'})\n",
        "    .reset_index()\n",
        "    .rename(columns={'turno':'Turno','nota_bimestral':'Notas Bimestrais'})\n",
        ")"
      ],
      "execution_count": 0,
      "outputs": [
        {
          "output_type": "execute_result",
          "data": {
            "text/html": [
              "<div>\n",
              "<style scoped>\n",
              "    .dataframe tbody tr th:only-of-type {\n",
              "        vertical-align: middle;\n",
              "    }\n",
              "\n",
              "    .dataframe tbody tr th {\n",
              "        vertical-align: top;\n",
              "    }\n",
              "\n",
              "    .dataframe thead th {\n",
              "        text-align: right;\n",
              "    }\n",
              "</style>\n",
              "<table border=\"1\" class=\"dataframe\">\n",
              "  <thead>\n",
              "    <tr style=\"text-align: right;\">\n",
              "      <th></th>\n",
              "      <th>Turno</th>\n",
              "      <th>Notas Bimestrais</th>\n",
              "    </tr>\n",
              "  </thead>\n",
              "  <tbody>\n",
              "    <tr>\n",
              "      <th>0</th>\n",
              "      <td>Diurno</td>\n",
              "      <td>6.151030</td>\n",
              "    </tr>\n",
              "    <tr>\n",
              "      <th>1</th>\n",
              "      <td>Noturno</td>\n",
              "      <td>6.883233</td>\n",
              "    </tr>\n",
              "  </tbody>\n",
              "</table>\n",
              "</div>"
            ],
            "text/plain": [
              "     Turno  Notas Bimestrais\n",
              "0   Diurno          6.151030\n",
              "1  Noturno          6.883233"
            ]
          },
          "metadata": {
            "tags": []
          },
          "execution_count": 52
        }
      ]
    },
    {
      "cell_type": "markdown",
      "metadata": {
        "id": "v0ACLAjpOlR_",
        "colab_type": "text"
      },
      "source": [
        "Abaixo é a relação das médias das notas finais por turno:"
      ]
    },
    {
      "cell_type": "code",
      "metadata": {
        "id": "ovQ_Lvtcufi4",
        "colab_type": "code",
        "outputId": "26245b20-5610-4537-dab1-d3177ad7b1ad",
        "colab": {
          "base_uri": "https://localhost:8080/",
          "height": 1000
        }
      },
      "source": [
        "(\n",
        "   df[df.bimestre == 'resultado final']\n",
        "    .loc[:,['disciplina','turno','nota_bimestral']]\n",
        "    .groupby(['turno','disciplina'],as_index=False)\n",
        "    .agg('mean')\n",
        "    .sort_values(by=['disciplina'],ascending=True)\n",
        "    .reset_index()\n",
        "    .rename(columns={'turno':'Turno','disciplina':'Disciplinas','nota_bimestral':'Médias das Notas Bimestrais'})\n",
        "    .drop(['index'],axis=1)\n",
        ")"
      ],
      "execution_count": 0,
      "outputs": [
        {
          "output_type": "execute_result",
          "data": {
            "text/html": [
              "<div>\n",
              "<style scoped>\n",
              "    .dataframe tbody tr th:only-of-type {\n",
              "        vertical-align: middle;\n",
              "    }\n",
              "\n",
              "    .dataframe tbody tr th {\n",
              "        vertical-align: top;\n",
              "    }\n",
              "\n",
              "    .dataframe thead th {\n",
              "        text-align: right;\n",
              "    }\n",
              "</style>\n",
              "<table border=\"1\" class=\"dataframe\">\n",
              "  <thead>\n",
              "    <tr style=\"text-align: right;\">\n",
              "      <th></th>\n",
              "      <th>Turno</th>\n",
              "      <th>Disciplinas</th>\n",
              "      <th>Médias das Notas Bimestrais</th>\n",
              "    </tr>\n",
              "  </thead>\n",
              "  <tbody>\n",
              "    <tr>\n",
              "      <th>0</th>\n",
              "      <td>Diurno</td>\n",
              "      <td>Arte</td>\n",
              "      <td>6.753001</td>\n",
              "    </tr>\n",
              "    <tr>\n",
              "      <th>1</th>\n",
              "      <td>Noturno</td>\n",
              "      <td>Arte</td>\n",
              "      <td>7.363676</td>\n",
              "    </tr>\n",
              "    <tr>\n",
              "      <th>2</th>\n",
              "      <td>Diurno</td>\n",
              "      <td>Biologia</td>\n",
              "      <td>6.095158</td>\n",
              "    </tr>\n",
              "    <tr>\n",
              "      <th>3</th>\n",
              "      <td>Noturno</td>\n",
              "      <td>Biologia</td>\n",
              "      <td>7.282098</td>\n",
              "    </tr>\n",
              "    <tr>\n",
              "      <th>4</th>\n",
              "      <td>Diurno</td>\n",
              "      <td>Ciências Naturais</td>\n",
              "      <td>6.390369</td>\n",
              "    </tr>\n",
              "    <tr>\n",
              "      <th>5</th>\n",
              "      <td>Noturno</td>\n",
              "      <td>Ciências Naturais</td>\n",
              "      <td>7.259207</td>\n",
              "    </tr>\n",
              "    <tr>\n",
              "      <th>6</th>\n",
              "      <td>Diurno</td>\n",
              "      <td>Educação Física</td>\n",
              "      <td>7.213355</td>\n",
              "    </tr>\n",
              "    <tr>\n",
              "      <th>7</th>\n",
              "      <td>Noturno</td>\n",
              "      <td>Educação Física</td>\n",
              "      <td>7.829910</td>\n",
              "    </tr>\n",
              "    <tr>\n",
              "      <th>8</th>\n",
              "      <td>Diurno</td>\n",
              "      <td>Ensino Religioso</td>\n",
              "      <td>1.449921</td>\n",
              "    </tr>\n",
              "    <tr>\n",
              "      <th>9</th>\n",
              "      <td>Noturno</td>\n",
              "      <td>Ensino Religioso</td>\n",
              "      <td>3.450412</td>\n",
              "    </tr>\n",
              "    <tr>\n",
              "      <th>10</th>\n",
              "      <td>Diurno</td>\n",
              "      <td>Filosofia</td>\n",
              "      <td>6.224615</td>\n",
              "    </tr>\n",
              "    <tr>\n",
              "      <th>11</th>\n",
              "      <td>Noturno</td>\n",
              "      <td>Filosofia</td>\n",
              "      <td>7.338642</td>\n",
              "    </tr>\n",
              "    <tr>\n",
              "      <th>12</th>\n",
              "      <td>Diurno</td>\n",
              "      <td>Física</td>\n",
              "      <td>5.831467</td>\n",
              "    </tr>\n",
              "    <tr>\n",
              "      <th>13</th>\n",
              "      <td>Noturno</td>\n",
              "      <td>Física</td>\n",
              "      <td>7.229711</td>\n",
              "    </tr>\n",
              "    <tr>\n",
              "      <th>14</th>\n",
              "      <td>Noturno</td>\n",
              "      <td>Geografia</td>\n",
              "      <td>7.328238</td>\n",
              "    </tr>\n",
              "    <tr>\n",
              "      <th>15</th>\n",
              "      <td>Diurno</td>\n",
              "      <td>Geografia</td>\n",
              "      <td>6.388393</td>\n",
              "    </tr>\n",
              "    <tr>\n",
              "      <th>16</th>\n",
              "      <td>Noturno</td>\n",
              "      <td>História</td>\n",
              "      <td>7.363924</td>\n",
              "    </tr>\n",
              "    <tr>\n",
              "      <th>17</th>\n",
              "      <td>Diurno</td>\n",
              "      <td>História</td>\n",
              "      <td>6.347981</td>\n",
              "    </tr>\n",
              "    <tr>\n",
              "      <th>18</th>\n",
              "      <td>Noturno</td>\n",
              "      <td>Língua Estrangeira - Espanhol</td>\n",
              "      <td>7.412550</td>\n",
              "    </tr>\n",
              "    <tr>\n",
              "      <th>19</th>\n",
              "      <td>Diurno</td>\n",
              "      <td>Língua Estrangeira - Espanhol</td>\n",
              "      <td>6.582068</td>\n",
              "    </tr>\n",
              "    <tr>\n",
              "      <th>20</th>\n",
              "      <td>Noturno</td>\n",
              "      <td>Língua Estrangeira - Inglês</td>\n",
              "      <td>7.384893</td>\n",
              "    </tr>\n",
              "    <tr>\n",
              "      <th>21</th>\n",
              "      <td>Diurno</td>\n",
              "      <td>Língua Estrangeira - Inglês</td>\n",
              "      <td>6.503969</td>\n",
              "    </tr>\n",
              "    <tr>\n",
              "      <th>22</th>\n",
              "      <td>Noturno</td>\n",
              "      <td>Língua Portuguesa</td>\n",
              "      <td>7.086772</td>\n",
              "    </tr>\n",
              "    <tr>\n",
              "      <th>23</th>\n",
              "      <td>Diurno</td>\n",
              "      <td>Língua Portuguesa</td>\n",
              "      <td>6.167220</td>\n",
              "    </tr>\n",
              "    <tr>\n",
              "      <th>24</th>\n",
              "      <td>Diurno</td>\n",
              "      <td>Língua estrangeira - Espanhol</td>\n",
              "      <td>5.996677</td>\n",
              "    </tr>\n",
              "    <tr>\n",
              "      <th>25</th>\n",
              "      <td>Diurno</td>\n",
              "      <td>Língua estrangeira - Inglês</td>\n",
              "      <td>6.712630</td>\n",
              "    </tr>\n",
              "    <tr>\n",
              "      <th>26</th>\n",
              "      <td>Noturno</td>\n",
              "      <td>Matemática</td>\n",
              "      <td>6.948709</td>\n",
              "    </tr>\n",
              "    <tr>\n",
              "      <th>27</th>\n",
              "      <td>Diurno</td>\n",
              "      <td>Matemática</td>\n",
              "      <td>5.895403</td>\n",
              "    </tr>\n",
              "    <tr>\n",
              "      <th>28</th>\n",
              "      <td>Noturno</td>\n",
              "      <td>Projeto Interdisciplinar I</td>\n",
              "      <td>4.011504</td>\n",
              "    </tr>\n",
              "    <tr>\n",
              "      <th>29</th>\n",
              "      <td>Diurno</td>\n",
              "      <td>Projeto Interdisciplinar I</td>\n",
              "      <td>6.879034</td>\n",
              "    </tr>\n",
              "    <tr>\n",
              "      <th>30</th>\n",
              "      <td>Noturno</td>\n",
              "      <td>Projeto Interdisciplinar II</td>\n",
              "      <td>3.829864</td>\n",
              "    </tr>\n",
              "    <tr>\n",
              "      <th>31</th>\n",
              "      <td>Diurno</td>\n",
              "      <td>Projeto Interdisciplinar II</td>\n",
              "      <td>6.403585</td>\n",
              "    </tr>\n",
              "    <tr>\n",
              "      <th>32</th>\n",
              "      <td>Noturno</td>\n",
              "      <td>Projeto Interdisciplinar III</td>\n",
              "      <td>3.438191</td>\n",
              "    </tr>\n",
              "    <tr>\n",
              "      <th>33</th>\n",
              "      <td>Diurno</td>\n",
              "      <td>Projeto Interdisciplinar III</td>\n",
              "      <td>4.718623</td>\n",
              "    </tr>\n",
              "    <tr>\n",
              "      <th>34</th>\n",
              "      <td>Diurno</td>\n",
              "      <td>Química</td>\n",
              "      <td>5.823755</td>\n",
              "    </tr>\n",
              "    <tr>\n",
              "      <th>35</th>\n",
              "      <td>Noturno</td>\n",
              "      <td>Química</td>\n",
              "      <td>7.091048</td>\n",
              "    </tr>\n",
              "    <tr>\n",
              "      <th>36</th>\n",
              "      <td>Diurno</td>\n",
              "      <td>Sociologia</td>\n",
              "      <td>6.308657</td>\n",
              "    </tr>\n",
              "    <tr>\n",
              "      <th>37</th>\n",
              "      <td>Noturno</td>\n",
              "      <td>Sociologia</td>\n",
              "      <td>7.283604</td>\n",
              "    </tr>\n",
              "  </tbody>\n",
              "</table>\n",
              "</div>"
            ],
            "text/plain": [
              "      Turno                    Disciplinas  Médias das Notas Bimestrais\n",
              "0    Diurno                           Arte                     6.753001\n",
              "1   Noturno                           Arte                     7.363676\n",
              "2    Diurno                       Biologia                     6.095158\n",
              "3   Noturno                       Biologia                     7.282098\n",
              "4    Diurno              Ciências Naturais                     6.390369\n",
              "5   Noturno              Ciências Naturais                     7.259207\n",
              "6    Diurno                Educação Física                     7.213355\n",
              "7   Noturno                Educação Física                     7.829910\n",
              "8    Diurno               Ensino Religioso                     1.449921\n",
              "9   Noturno               Ensino Religioso                     3.450412\n",
              "10   Diurno                      Filosofia                     6.224615\n",
              "11  Noturno                      Filosofia                     7.338642\n",
              "12   Diurno                         Física                     5.831467\n",
              "13  Noturno                         Física                     7.229711\n",
              "14  Noturno                      Geografia                     7.328238\n",
              "15   Diurno                      Geografia                     6.388393\n",
              "16  Noturno                       História                     7.363924\n",
              "17   Diurno                       História                     6.347981\n",
              "18  Noturno  Língua Estrangeira - Espanhol                     7.412550\n",
              "19   Diurno  Língua Estrangeira - Espanhol                     6.582068\n",
              "20  Noturno    Língua Estrangeira - Inglês                     7.384893\n",
              "21   Diurno    Língua Estrangeira - Inglês                     6.503969\n",
              "22  Noturno              Língua Portuguesa                     7.086772\n",
              "23   Diurno              Língua Portuguesa                     6.167220\n",
              "24   Diurno  Língua estrangeira - Espanhol                     5.996677\n",
              "25   Diurno    Língua estrangeira - Inglês                     6.712630\n",
              "26  Noturno                     Matemática                     6.948709\n",
              "27   Diurno                     Matemática                     5.895403\n",
              "28  Noturno     Projeto Interdisciplinar I                     4.011504\n",
              "29   Diurno     Projeto Interdisciplinar I                     6.879034\n",
              "30  Noturno    Projeto Interdisciplinar II                     3.829864\n",
              "31   Diurno    Projeto Interdisciplinar II                     6.403585\n",
              "32  Noturno   Projeto Interdisciplinar III                     3.438191\n",
              "33   Diurno   Projeto Interdisciplinar III                     4.718623\n",
              "34   Diurno                        Química                     5.823755\n",
              "35  Noturno                        Química                     7.091048\n",
              "36   Diurno                     Sociologia                     6.308657\n",
              "37  Noturno                     Sociologia                     7.283604"
            ]
          },
          "metadata": {
            "tags": []
          },
          "execution_count": 129
        }
      ]
    },
    {
      "cell_type": "markdown",
      "metadata": {
        "id": "DdDBf8ub82fs",
        "colab_type": "text"
      },
      "source": [
        "O turno noturno tem alunos com notas finais maiores."
      ]
    },
    {
      "cell_type": "markdown",
      "metadata": {
        "id": "sObbAEQLCSR_",
        "colab_type": "text"
      },
      "source": [
        "# Quantos alunos diferentes o dataset possui?"
      ]
    },
    {
      "cell_type": "code",
      "metadata": {
        "id": "fkP1J47Nc6Lq",
        "colab_type": "code",
        "colab": {}
      },
      "source": [
        "df.cod_aluno.nunique()"
      ],
      "execution_count": 0,
      "outputs": []
    },
    {
      "cell_type": "markdown",
      "metadata": {
        "id": "FQTLBBV-Dm1H",
        "colab_type": "text"
      },
      "source": [
        "O dataset possui 413.121 alunos diferentes."
      ]
    },
    {
      "cell_type": "markdown",
      "metadata": {
        "id": "Ct0tTcrrcYTB",
        "colab_type": "text"
      },
      "source": [
        "# Quantas escolas diferentes o dataset possui?"
      ]
    },
    {
      "cell_type": "code",
      "metadata": {
        "id": "pljXT-QVDxj9",
        "colab_type": "code",
        "colab": {}
      },
      "source": [
        "df.cod_escola.nunique()"
      ],
      "execution_count": 0,
      "outputs": []
    },
    {
      "cell_type": "markdown",
      "metadata": {
        "id": "bc1ZbHPycuup",
        "colab_type": "text"
      },
      "source": [
        "O dataset possui 627 escolas diferentes."
      ]
    },
    {
      "cell_type": "markdown",
      "metadata": {
        "id": "WT0btlhoc3jc",
        "colab_type": "text"
      },
      "source": [
        "# Demonstrando a distribuição de alunos por série."
      ]
    },
    {
      "cell_type": "code",
      "metadata": {
        "id": "AcvBbeusE4-V",
        "colab_type": "code",
        "outputId": "66f8470f-9fd7-4093-95c7-6f59ce4df4a8",
        "colab": {
          "base_uri": "https://localhost:8080/",
          "height": 1000
        }
      },
      "source": [
        "(\n",
        "    df.drop_duplicates(subset=['cod_aluno'],keep='last').reset_index()\n",
        "    .groupby('serie').cod_aluno.nunique()\n",
        "    .reset_index()\n",
        "    .rename(columns={'serie':'Série','cod_aluno':'Quantidade de Alunos(as)'})\n",
        "    .sort_values(by=['Quantidade de Alunos(as)'],ascending=True)\n",
        "    .reset_index()\n",
        "    .drop(['index'],axis=1)\n",
        ")"
      ],
      "execution_count": 0,
      "outputs": [
        {
          "output_type": "execute_result",
          "data": {
            "text/html": [
              "<div>\n",
              "<style scoped>\n",
              "    .dataframe tbody tr th:only-of-type {\n",
              "        vertical-align: middle;\n",
              "    }\n",
              "\n",
              "    .dataframe tbody tr th {\n",
              "        vertical-align: top;\n",
              "    }\n",
              "\n",
              "    .dataframe thead th {\n",
              "        text-align: right;\n",
              "    }\n",
              "</style>\n",
              "<table border=\"1\" class=\"dataframe\">\n",
              "  <thead>\n",
              "    <tr style=\"text-align: right;\">\n",
              "      <th></th>\n",
              "      <th>Série</th>\n",
              "      <th>Quantidade de Alunos(as)</th>\n",
              "    </tr>\n",
              "  </thead>\n",
              "  <tbody>\n",
              "    <tr>\n",
              "      <th>0</th>\n",
              "      <td>8º Ano especial</td>\n",
              "      <td>3</td>\n",
              "    </tr>\n",
              "    <tr>\n",
              "      <th>1</th>\n",
              "      <td>1ª Série EM Especial</td>\n",
              "      <td>6</td>\n",
              "    </tr>\n",
              "    <tr>\n",
              "      <th>2</th>\n",
              "      <td>Bloco Ensino Médio - 3ª série</td>\n",
              "      <td>16</td>\n",
              "    </tr>\n",
              "    <tr>\n",
              "      <th>3</th>\n",
              "      <td>2º Ciclo - Bloco 1</td>\n",
              "      <td>23</td>\n",
              "    </tr>\n",
              "    <tr>\n",
              "      <th>4</th>\n",
              "      <td>Berçário I</td>\n",
              "      <td>25</td>\n",
              "    </tr>\n",
              "    <tr>\n",
              "      <th>5</th>\n",
              "      <td>Berçário II</td>\n",
              "      <td>28</td>\n",
              "    </tr>\n",
              "    <tr>\n",
              "      <th>6</th>\n",
              "      <td>4º Ano especial</td>\n",
              "      <td>34</td>\n",
              "    </tr>\n",
              "    <tr>\n",
              "      <th>7</th>\n",
              "      <td>2º Período Especial</td>\n",
              "      <td>36</td>\n",
              "    </tr>\n",
              "    <tr>\n",
              "      <th>8</th>\n",
              "      <td>7º Ano especial</td>\n",
              "      <td>55</td>\n",
              "    </tr>\n",
              "    <tr>\n",
              "      <th>9</th>\n",
              "      <td>Bloco Ensino Médio - 2ª série</td>\n",
              "      <td>66</td>\n",
              "    </tr>\n",
              "    <tr>\n",
              "      <th>10</th>\n",
              "      <td>2º Ciclo - Bloco 2</td>\n",
              "      <td>67</td>\n",
              "    </tr>\n",
              "    <tr>\n",
              "      <th>11</th>\n",
              "      <td>5º Ano especial</td>\n",
              "      <td>69</td>\n",
              "    </tr>\n",
              "    <tr>\n",
              "      <th>12</th>\n",
              "      <td>Maternal I</td>\n",
              "      <td>109</td>\n",
              "    </tr>\n",
              "    <tr>\n",
              "      <th>13</th>\n",
              "      <td>2º Ano Especial</td>\n",
              "      <td>114</td>\n",
              "    </tr>\n",
              "    <tr>\n",
              "      <th>14</th>\n",
              "      <td>1º Período  Especial</td>\n",
              "      <td>115</td>\n",
              "    </tr>\n",
              "    <tr>\n",
              "      <th>15</th>\n",
              "      <td>3º Ano especial</td>\n",
              "      <td>127</td>\n",
              "    </tr>\n",
              "    <tr>\n",
              "      <th>16</th>\n",
              "      <td>6º Ano especial</td>\n",
              "      <td>174</td>\n",
              "    </tr>\n",
              "    <tr>\n",
              "      <th>17</th>\n",
              "      <td>Bloco Ensino Médio - 1ª série</td>\n",
              "      <td>190</td>\n",
              "    </tr>\n",
              "    <tr>\n",
              "      <th>18</th>\n",
              "      <td>3º Ciclo - Bloco 2</td>\n",
              "      <td>259</td>\n",
              "    </tr>\n",
              "    <tr>\n",
              "      <th>19</th>\n",
              "      <td>3º Ciclo - Bloco 1</td>\n",
              "      <td>310</td>\n",
              "    </tr>\n",
              "    <tr>\n",
              "      <th>20</th>\n",
              "      <td>Maternal II</td>\n",
              "      <td>701</td>\n",
              "    </tr>\n",
              "    <tr>\n",
              "      <th>21</th>\n",
              "      <td>1º Ano especial</td>\n",
              "      <td>994</td>\n",
              "    </tr>\n",
              "    <tr>\n",
              "      <th>22</th>\n",
              "      <td>1º Período</td>\n",
              "      <td>19315</td>\n",
              "    </tr>\n",
              "    <tr>\n",
              "      <th>23</th>\n",
              "      <td>3ª Série</td>\n",
              "      <td>21260</td>\n",
              "    </tr>\n",
              "    <tr>\n",
              "      <th>24</th>\n",
              "      <td>2º Período</td>\n",
              "      <td>23644</td>\n",
              "    </tr>\n",
              "    <tr>\n",
              "      <th>25</th>\n",
              "      <td>2ª Série</td>\n",
              "      <td>25774</td>\n",
              "    </tr>\n",
              "    <tr>\n",
              "      <th>26</th>\n",
              "      <td>2º Ano</td>\n",
              "      <td>28104</td>\n",
              "    </tr>\n",
              "    <tr>\n",
              "      <th>27</th>\n",
              "      <td>1º Ano</td>\n",
              "      <td>28466</td>\n",
              "    </tr>\n",
              "    <tr>\n",
              "      <th>28</th>\n",
              "      <td>9º Ano</td>\n",
              "      <td>29361</td>\n",
              "    </tr>\n",
              "    <tr>\n",
              "      <th>29</th>\n",
              "      <td>4º Ano</td>\n",
              "      <td>29975</td>\n",
              "    </tr>\n",
              "    <tr>\n",
              "      <th>30</th>\n",
              "      <td>5º Ano</td>\n",
              "      <td>30986</td>\n",
              "    </tr>\n",
              "    <tr>\n",
              "      <th>31</th>\n",
              "      <td>8º Ano</td>\n",
              "      <td>31535</td>\n",
              "    </tr>\n",
              "    <tr>\n",
              "      <th>32</th>\n",
              "      <td>1ª Série</td>\n",
              "      <td>34655</td>\n",
              "    </tr>\n",
              "    <tr>\n",
              "      <th>33</th>\n",
              "      <td>3º Ano</td>\n",
              "      <td>34775</td>\n",
              "    </tr>\n",
              "    <tr>\n",
              "      <th>34</th>\n",
              "      <td>7º Ano</td>\n",
              "      <td>34965</td>\n",
              "    </tr>\n",
              "    <tr>\n",
              "      <th>35</th>\n",
              "      <td>6º Ano</td>\n",
              "      <td>36785</td>\n",
              "    </tr>\n",
              "  </tbody>\n",
              "</table>\n",
              "</div>"
            ],
            "text/plain": [
              "                            Série  Quantidade de Alunos(as)\n",
              "0                 8º Ano especial                         3\n",
              "1            1ª Série EM Especial                         6\n",
              "2   Bloco Ensino Médio - 3ª série                        16\n",
              "3              2º Ciclo - Bloco 1                        23\n",
              "4                      Berçário I                        25\n",
              "5                     Berçário II                        28\n",
              "6                 4º Ano especial                        34\n",
              "7             2º Período Especial                        36\n",
              "8                 7º Ano especial                        55\n",
              "9   Bloco Ensino Médio - 2ª série                        66\n",
              "10             2º Ciclo - Bloco 2                        67\n",
              "11                5º Ano especial                        69\n",
              "12                     Maternal I                       109\n",
              "13                2º Ano Especial                       114\n",
              "14           1º Período  Especial                       115\n",
              "15                3º Ano especial                       127\n",
              "16                6º Ano especial                       174\n",
              "17  Bloco Ensino Médio - 1ª série                       190\n",
              "18             3º Ciclo - Bloco 2                       259\n",
              "19             3º Ciclo - Bloco 1                       310\n",
              "20                    Maternal II                       701\n",
              "21                1º Ano especial                       994\n",
              "22                     1º Período                     19315\n",
              "23                       3ª Série                     21260\n",
              "24                     2º Período                     23644\n",
              "25                       2ª Série                     25774\n",
              "26                         2º Ano                     28104\n",
              "27                         1º Ano                     28466\n",
              "28                         9º Ano                     29361\n",
              "29                         4º Ano                     29975\n",
              "30                         5º Ano                     30986\n",
              "31                         8º Ano                     31535\n",
              "32                       1ª Série                     34655\n",
              "33                         3º Ano                     34775\n",
              "34                         7º Ano                     34965\n",
              "35                         6º Ano                     36785"
            ]
          },
          "metadata": {
            "tags": []
          },
          "execution_count": 65
        }
      ]
    },
    {
      "cell_type": "markdown",
      "metadata": {
        "id": "dub5VeteAiQR",
        "colab_type": "text"
      },
      "source": [
        "Pode-se perceber que a série que mais tem alunos(as) é o 6º ano, com 36.785 alunos(as) e a que menos tem é o 8º Ano especial, com apenas 3 alunos(as)."
      ]
    },
    {
      "cell_type": "markdown",
      "metadata": {
        "id": "u6ZnefDqhQtD",
        "colab_type": "text"
      },
      "source": [
        "# Demonstrando a distribuição de escolas por coordenação regional."
      ]
    },
    {
      "cell_type": "code",
      "metadata": {
        "id": "0He7hfCsD4Mf",
        "colab_type": "code",
        "outputId": "a9bd977d-960a-4272-de9b-dbaf36d76ad7",
        "colab": {
          "base_uri": "https://localhost:8080/",
          "height": 489
        }
      },
      "source": [
        "(\n",
        "    df[['escola']].groupby(df.coordenacao_regional).nunique()\n",
        "    .reset_index()\n",
        "    .rename(columns={'escola':'Quantidade de Escolas','coordenacao_regional':'Coordenação Regional'})\n",
        "    .sort_values(['Quantidade de Escolas'], ascending = (True))\n",
        "    .reset_index()\n",
        "    .drop(['index'],axis=1)\n",
        ")"
      ],
      "execution_count": 0,
      "outputs": [
        {
          "output_type": "execute_result",
          "data": {
            "text/html": [
              "<div>\n",
              "<style scoped>\n",
              "    .dataframe tbody tr th:only-of-type {\n",
              "        vertical-align: middle;\n",
              "    }\n",
              "\n",
              "    .dataframe tbody tr th {\n",
              "        vertical-align: top;\n",
              "    }\n",
              "\n",
              "    .dataframe thead th {\n",
              "        text-align: right;\n",
              "    }\n",
              "</style>\n",
              "<table border=\"1\" class=\"dataframe\">\n",
              "  <thead>\n",
              "    <tr style=\"text-align: right;\">\n",
              "      <th></th>\n",
              "      <th>Coordenação Regional</th>\n",
              "      <th>Quantidade de Escolas</th>\n",
              "    </tr>\n",
              "  </thead>\n",
              "  <tbody>\n",
              "    <tr>\n",
              "      <th>0</th>\n",
              "      <td>CRE - São Sebastião</td>\n",
              "      <td>24</td>\n",
              "    </tr>\n",
              "    <tr>\n",
              "      <th>1</th>\n",
              "      <td>CRE - Guará</td>\n",
              "      <td>25</td>\n",
              "    </tr>\n",
              "    <tr>\n",
              "      <th>2</th>\n",
              "      <td>CRE - Brazlândia</td>\n",
              "      <td>27</td>\n",
              "    </tr>\n",
              "    <tr>\n",
              "      <th>3</th>\n",
              "      <td>CRE - Recanto das Emas</td>\n",
              "      <td>27</td>\n",
              "    </tr>\n",
              "    <tr>\n",
              "      <th>4</th>\n",
              "      <td>CRE - Santa Maria</td>\n",
              "      <td>27</td>\n",
              "    </tr>\n",
              "    <tr>\n",
              "      <th>5</th>\n",
              "      <td>CRE - Núcleo Bandeirante</td>\n",
              "      <td>32</td>\n",
              "    </tr>\n",
              "    <tr>\n",
              "      <th>6</th>\n",
              "      <td>CRE - Paranoá</td>\n",
              "      <td>33</td>\n",
              "    </tr>\n",
              "    <tr>\n",
              "      <th>7</th>\n",
              "      <td>CRE - Samambaia</td>\n",
              "      <td>40</td>\n",
              "    </tr>\n",
              "    <tr>\n",
              "      <th>8</th>\n",
              "      <td>CRE - Sobradinho</td>\n",
              "      <td>44</td>\n",
              "    </tr>\n",
              "    <tr>\n",
              "      <th>9</th>\n",
              "      <td>CRE - Gama</td>\n",
              "      <td>47</td>\n",
              "    </tr>\n",
              "    <tr>\n",
              "      <th>10</th>\n",
              "      <td>CRE - Taguatinga</td>\n",
              "      <td>59</td>\n",
              "    </tr>\n",
              "    <tr>\n",
              "      <th>11</th>\n",
              "      <td>CRE - Planaltina</td>\n",
              "      <td>62</td>\n",
              "    </tr>\n",
              "    <tr>\n",
              "      <th>12</th>\n",
              "      <td>CRE - Plano Piloto</td>\n",
              "      <td>89</td>\n",
              "    </tr>\n",
              "    <tr>\n",
              "      <th>13</th>\n",
              "      <td>CRE - Ceilândia</td>\n",
              "      <td>91</td>\n",
              "    </tr>\n",
              "  </tbody>\n",
              "</table>\n",
              "</div>"
            ],
            "text/plain": [
              "        Coordenação Regional  Quantidade de Escolas\n",
              "0        CRE - São Sebastião                     24\n",
              "1                CRE - Guará                     25\n",
              "2           CRE - Brazlândia                     27\n",
              "3     CRE - Recanto das Emas                     27\n",
              "4          CRE - Santa Maria                     27\n",
              "5   CRE - Núcleo Bandeirante                     32\n",
              "6              CRE - Paranoá                     33\n",
              "7            CRE - Samambaia                     40\n",
              "8           CRE - Sobradinho                     44\n",
              "9                 CRE - Gama                     47\n",
              "10          CRE - Taguatinga                     59\n",
              "11          CRE - Planaltina                     62\n",
              "12        CRE - Plano Piloto                     89\n",
              "13           CRE - Ceilândia                     91"
            ]
          },
          "metadata": {
            "tags": []
          },
          "execution_count": 28
        }
      ]
    },
    {
      "cell_type": "markdown",
      "metadata": {
        "id": "2r-GBuCH5VCs",
        "colab_type": "text"
      },
      "source": [
        "A CRE que mais possui escolas, de acordo com a base, é Ceilândia com 91 escolas e a que menos possui é São Sebastião, com 24 escolas."
      ]
    },
    {
      "cell_type": "markdown",
      "metadata": {
        "id": "fLNQIUR1rqW9",
        "colab_type": "text"
      },
      "source": [
        "# Qual é a matéria que os alunos do ensino médio ('1ª Série', '2ª Série', '3ª Série') tiram, em média, a menor nota final?"
      ]
    },
    {
      "cell_type": "code",
      "metadata": {
        "id": "uifw10l2Phk-",
        "colab_type": "code",
        "outputId": "7a79b50b-d1e7-48e0-d0a7-38342ab254fd",
        "colab": {
          "base_uri": "https://localhost:8080/",
          "height": 583
        }
      },
      "source": [
        "filtro_serie = ['1ª Série', '2ª Série','3ª Série']\n",
        "\n",
        "menor_nota = (\n",
        "    df[(df.serie.isin(filtro_serie)) & (df.bimestre == 'resultado final')]\n",
        "    .groupby('disciplina').nota_bimestral.mean().reset_index()\n",
        "    .sort_values('nota_bimestral',ascending=True).reset_index()\n",
        "    .drop(['index'],axis=1)\n",
        ")\n",
        "menor_nota"
      ],
      "execution_count": 0,
      "outputs": [
        {
          "output_type": "execute_result",
          "data": {
            "text/html": [
              "<div>\n",
              "<style scoped>\n",
              "    .dataframe tbody tr th:only-of-type {\n",
              "        vertical-align: middle;\n",
              "    }\n",
              "\n",
              "    .dataframe tbody tr th {\n",
              "        vertical-align: top;\n",
              "    }\n",
              "\n",
              "    .dataframe thead th {\n",
              "        text-align: right;\n",
              "    }\n",
              "</style>\n",
              "<table border=\"1\" class=\"dataframe\">\n",
              "  <thead>\n",
              "    <tr style=\"text-align: right;\">\n",
              "      <th></th>\n",
              "      <th>disciplina</th>\n",
              "      <th>nota_bimestral</th>\n",
              "    </tr>\n",
              "  </thead>\n",
              "  <tbody>\n",
              "    <tr>\n",
              "      <th>0</th>\n",
              "      <td>Ensino Religioso</td>\n",
              "      <td>1.394017</td>\n",
              "    </tr>\n",
              "    <tr>\n",
              "      <th>1</th>\n",
              "      <td>Projeto Interdisciplinar III</td>\n",
              "      <td>4.365675</td>\n",
              "    </tr>\n",
              "    <tr>\n",
              "      <th>2</th>\n",
              "      <td>Matemática</td>\n",
              "      <td>5.718658</td>\n",
              "    </tr>\n",
              "    <tr>\n",
              "      <th>3</th>\n",
              "      <td>Química</td>\n",
              "      <td>5.935454</td>\n",
              "    </tr>\n",
              "    <tr>\n",
              "      <th>4</th>\n",
              "      <td>Física</td>\n",
              "      <td>5.954836</td>\n",
              "    </tr>\n",
              "    <tr>\n",
              "      <th>5</th>\n",
              "      <td>Projeto Interdisciplinar II</td>\n",
              "      <td>6.045421</td>\n",
              "    </tr>\n",
              "    <tr>\n",
              "      <th>6</th>\n",
              "      <td>Língua Portuguesa</td>\n",
              "      <td>6.059749</td>\n",
              "    </tr>\n",
              "    <tr>\n",
              "      <th>7</th>\n",
              "      <td>Biologia</td>\n",
              "      <td>6.200268</td>\n",
              "    </tr>\n",
              "    <tr>\n",
              "      <th>8</th>\n",
              "      <td>História</td>\n",
              "      <td>6.316606</td>\n",
              "    </tr>\n",
              "    <tr>\n",
              "      <th>9</th>\n",
              "      <td>Filosofia</td>\n",
              "      <td>6.322245</td>\n",
              "    </tr>\n",
              "    <tr>\n",
              "      <th>10</th>\n",
              "      <td>Sociologia</td>\n",
              "      <td>6.395493</td>\n",
              "    </tr>\n",
              "    <tr>\n",
              "      <th>11</th>\n",
              "      <td>Geografia</td>\n",
              "      <td>6.401700</td>\n",
              "    </tr>\n",
              "    <tr>\n",
              "      <th>12</th>\n",
              "      <td>Língua Estrangeira - Inglês</td>\n",
              "      <td>6.437574</td>\n",
              "    </tr>\n",
              "    <tr>\n",
              "      <th>13</th>\n",
              "      <td>Arte</td>\n",
              "      <td>6.652213</td>\n",
              "    </tr>\n",
              "    <tr>\n",
              "      <th>14</th>\n",
              "      <td>Língua Estrangeira - Espanhol</td>\n",
              "      <td>6.656597</td>\n",
              "    </tr>\n",
              "    <tr>\n",
              "      <th>15</th>\n",
              "      <td>Projeto Interdisciplinar I</td>\n",
              "      <td>6.765876</td>\n",
              "    </tr>\n",
              "    <tr>\n",
              "      <th>16</th>\n",
              "      <td>Educação Física</td>\n",
              "      <td>7.153535</td>\n",
              "    </tr>\n",
              "  </tbody>\n",
              "</table>\n",
              "</div>"
            ],
            "text/plain": [
              "                       disciplina  nota_bimestral\n",
              "0                Ensino Religioso        1.394017\n",
              "1    Projeto Interdisciplinar III        4.365675\n",
              "2                      Matemática        5.718658\n",
              "3                         Química        5.935454\n",
              "4                          Física        5.954836\n",
              "5     Projeto Interdisciplinar II        6.045421\n",
              "6               Língua Portuguesa        6.059749\n",
              "7                        Biologia        6.200268\n",
              "8                        História        6.316606\n",
              "9                       Filosofia        6.322245\n",
              "10                     Sociologia        6.395493\n",
              "11                      Geografia        6.401700\n",
              "12    Língua Estrangeira - Inglês        6.437574\n",
              "13                           Arte        6.652213\n",
              "14  Língua Estrangeira - Espanhol        6.656597\n",
              "15     Projeto Interdisciplinar I        6.765876\n",
              "16                Educação Física        7.153535"
            ]
          },
          "metadata": {
            "tags": []
          },
          "execution_count": 130
        }
      ]
    },
    {
      "cell_type": "markdown",
      "metadata": {
        "id": "pMQVRriy4bl3",
        "colab_type": "text"
      },
      "source": [
        "A matéria que os alunos do Ensino Médio tiram, em média, a menor nota é Ensino Religioso."
      ]
    },
    {
      "cell_type": "markdown",
      "metadata": {
        "id": "gx8-8HeH2TlY",
        "colab_type": "text"
      },
      "source": [
        "# Qual é a coordenação regional com o maior número de notas máximas em matemática no último ano do ensino médio ('3ª Série')?"
      ]
    },
    {
      "cell_type": "code",
      "metadata": {
        "id": "wXBwxKr11zFo",
        "colab_type": "code",
        "outputId": "90e65d0f-f9e3-40ef-d4b8-bfd20f648b6e",
        "colab": {
          "base_uri": "https://localhost:8080/",
          "height": 311
        }
      },
      "source": [
        "df_3serie = df[df['serie'] == '3ª Série']\n",
        "df_3s_mat = df_3serie[df_3serie['disciplina'] == 'Matemática']\n",
        "df_3s_mat_final = df_3s_mat[df_3s_mat['bimestre'] == 'resultado final']\n",
        "df_3s_mat_final_max = df_3s_mat[df_3s_mat['nota_bimestral'] == 10.0]\n",
        "coords_max_notas = df_3s_mat_final_max.groupby('coordenacao_regional').count()\n",
        "coords_max_notas['nota_bimestral']"
      ],
      "execution_count": 0,
      "outputs": [
        {
          "output_type": "execute_result",
          "data": {
            "text/plain": [
              "coordenacao_regional\n",
              "CRE - Brazlândia              2\n",
              "CRE - Ceilândia             111\n",
              "CRE - Gama                   12\n",
              "CRE - Guará                  32\n",
              "CRE - Núcleo Bandeirante     50\n",
              "CRE - Paranoá                 9\n",
              "CRE - Planaltina             47\n",
              "CRE - Plano Piloto            6\n",
              "CRE - Recanto das Emas       70\n",
              "CRE - Samambaia             321\n",
              "CRE - Santa Maria             4\n",
              "CRE - Sobradinho             20\n",
              "CRE - São Sebastião           6\n",
              "CRE - Taguatinga            124\n",
              "Name: nota_bimestral, dtype: int64"
            ]
          },
          "metadata": {
            "tags": []
          },
          "execution_count": 45
        }
      ]
    },
    {
      "cell_type": "markdown",
      "metadata": {
        "id": "iPNZBm9KvyOl",
        "colab_type": "text"
      },
      "source": [
        "A coordenação regional com o maior número de notas de matemática dos(as) alunos(as) da 3ª série é Samambaia, com 321 notas máximas."
      ]
    },
    {
      "cell_type": "markdown",
      "metadata": {
        "id": "NthO7sb5-rrf",
        "colab_type": "text"
      },
      "source": [
        "# Quantos valores nulos o dataset possui em cada coluna?"
      ]
    },
    {
      "cell_type": "code",
      "metadata": {
        "id": "1jFAaXrD-uax",
        "colab_type": "code",
        "outputId": "8f781f85-7e43-4e5a-fb5b-766d9b82e931",
        "colab": {
          "base_uri": "https://localhost:8080/",
          "height": 458
        }
      },
      "source": [
        "df.isna().sum()"
      ],
      "execution_count": 0,
      "outputs": [
        {
          "output_type": "execute_result",
          "data": {
            "text/plain": [
              "cod_coordenacao_regional                   0\n",
              "coordenacao_regional                       0\n",
              "cod_escola                                 0\n",
              "escola                                     0\n",
              "cod_curso                                  0\n",
              "curso                                      0\n",
              "cod_serie                                  0\n",
              "serie                                      0\n",
              "cod_turno                                  0\n",
              "turno                                      0\n",
              "cod_turma                                896\n",
              "turma                                    896\n",
              "cod_aluno                                  0\n",
              "bimestre                                   0\n",
              "cod_disciplina                             0\n",
              "disciplina                                 0\n",
              "nota_bimestral                        788999\n",
              "aulas_bimestre                       3423972\n",
              "faltas_bimestre                      3423972\n",
              "faltas_justificadas_bimestre         4274032\n",
              "aulas_globalizadas                  11991797\n",
              "faltas_globalizadas                 11990519\n",
              "faltas_justificadas_globalizadas    11991797\n",
              "dtype: int64"
            ]
          },
          "metadata": {
            "tags": []
          },
          "execution_count": 44
        }
      ]
    },
    {
      "cell_type": "markdown",
      "metadata": {
        "id": "qgAJityo_JSc",
        "colab_type": "text"
      },
      "source": [
        "Nas colunas cod_turma e turma o dataset possui 896 valores nulos; na coluna nota_bimestral: 788999, aulas_bimestre: 3423972, faltas_bimestre: 3423972, faltas_justificadas_bimestre: 4274032, aulas_globalizadas: 11991797, faltas_globalizadas: 11990519 e faltas_justificadas_globalizadas: 11991797."
      ]
    },
    {
      "cell_type": "markdown",
      "metadata": {
        "id": "hiNo5d6Q_yuz",
        "colab_type": "text"
      },
      "source": [
        "# Qual a distribuição de alunos por curso?"
      ]
    },
    {
      "cell_type": "code",
      "metadata": {
        "id": "6eIaHr1BzpBC",
        "colab_type": "code",
        "outputId": "e5c6f1f2-c474-4d7b-f993-faee1e2bf48e",
        "colab": {
          "base_uri": "https://localhost:8080/",
          "height": 300
        }
      },
      "source": [
        "(\n",
        "    df.drop_duplicates(subset=['cod_aluno'],keep='last')\n",
        "    .groupby('curso').cod_aluno.nunique()\n",
        "    .reset_index()\n",
        "    .rename(columns={'curso':'Curso','cod_aluno':'Quantidade de alunos(as)'})\n",
        "    .sort_values(['Quantidade de alunos(as)'], ascending = (True))\n",
        "    .reset_index()\n",
        "    .drop(['index'],axis=1)\n",
        ")"
      ],
      "execution_count": 0,
      "outputs": [
        {
          "output_type": "execute_result",
          "data": {
            "text/html": [
              "<div>\n",
              "<style scoped>\n",
              "    .dataframe tbody tr th:only-of-type {\n",
              "        vertical-align: middle;\n",
              "    }\n",
              "\n",
              "    .dataframe tbody tr th {\n",
              "        vertical-align: top;\n",
              "    }\n",
              "\n",
              "    .dataframe thead th {\n",
              "        text-align: right;\n",
              "    }\n",
              "</style>\n",
              "<table border=\"1\" class=\"dataframe\">\n",
              "  <thead>\n",
              "    <tr style=\"text-align: right;\">\n",
              "      <th></th>\n",
              "      <th>Curso</th>\n",
              "      <th>Quantidade de alunos(as)</th>\n",
              "    </tr>\n",
              "  </thead>\n",
              "  <tbody>\n",
              "    <tr>\n",
              "      <th>0</th>\n",
              "      <td>Ensino Médio - Especial</td>\n",
              "      <td>6</td>\n",
              "    </tr>\n",
              "    <tr>\n",
              "      <th>1</th>\n",
              "      <td>Educação Infantil -  Especial</td>\n",
              "      <td>151</td>\n",
              "    </tr>\n",
              "    <tr>\n",
              "      <th>2</th>\n",
              "      <td>Ensino Médio - Socioeducação</td>\n",
              "      <td>272</td>\n",
              "    </tr>\n",
              "    <tr>\n",
              "      <th>3</th>\n",
              "      <td>Ensino Fundamental Socioeducação</td>\n",
              "      <td>659</td>\n",
              "    </tr>\n",
              "    <tr>\n",
              "      <th>4</th>\n",
              "      <td>Ensino Fundamental de 9 Anos - Especial</td>\n",
              "      <td>1570</td>\n",
              "    </tr>\n",
              "    <tr>\n",
              "      <th>5</th>\n",
              "      <td>Educação Infantil</td>\n",
              "      <td>43822</td>\n",
              "    </tr>\n",
              "    <tr>\n",
              "      <th>6</th>\n",
              "      <td>Ensino Médio</td>\n",
              "      <td>81689</td>\n",
              "    </tr>\n",
              "    <tr>\n",
              "      <th>7</th>\n",
              "      <td>Ensino Fundamental de 9 Anos</td>\n",
              "      <td>284952</td>\n",
              "    </tr>\n",
              "  </tbody>\n",
              "</table>\n",
              "</div>"
            ],
            "text/plain": [
              "                                     Curso  Quantidade de alunos(as)\n",
              "0                  Ensino Médio - Especial                         6\n",
              "1            Educação Infantil -  Especial                       151\n",
              "2             Ensino Médio - Socioeducação                       272\n",
              "3         Ensino Fundamental Socioeducação                       659\n",
              "4  Ensino Fundamental de 9 Anos - Especial                      1570\n",
              "5                        Educação Infantil                     43822\n",
              "6                             Ensino Médio                     81689\n",
              "7             Ensino Fundamental de 9 Anos                    284952"
            ]
          },
          "metadata": {
            "tags": []
          },
          "execution_count": 68
        }
      ]
    },
    {
      "cell_type": "markdown",
      "metadata": {
        "id": "AEWHRzhT9CnJ",
        "colab_type": "text"
      },
      "source": [
        "Por meio da tabela acima, pode-se perceber que o Curso que possui menos alunos(as) é o Ensino Médio - Especial, com apenas seis alunos(as), enquanto o que mais possui é o Ensino Fundamental de 9 Anos, com 284.952 alunos(as)."
      ]
    },
    {
      "cell_type": "markdown",
      "metadata": {
        "id": "XGusBqPhJnck",
        "colab_type": "text"
      },
      "source": [
        "# Os alunos que estudam na primeira série do ensino médio em escolas sobre a responsabilidade da CRE - Plano Piloto tem uma nota final de português melhor do que os alunos de outras CRE para mesma faixa e matéria. Verdadeiro ou Falso? "
      ]
    },
    {
      "cell_type": "markdown",
      "metadata": {
        "id": "WXk0M1cwSJPA",
        "colab_type": "text"
      },
      "source": [
        "* Verificando a média da CRE - Plano Piloto:"
      ]
    },
    {
      "cell_type": "code",
      "metadata": {
        "id": "XTxgzsQOu6IM",
        "colab_type": "code",
        "outputId": "7accb811-59eb-4dba-d4c0-ab2bbbe29474",
        "colab": {
          "base_uri": "https://localhost:8080/",
          "height": 54
        }
      },
      "source": [
        "media_cre_planopiloto = (\n",
        "    df[(df.serie == '1ª Série') & (df.disciplina == 'Língua Portuguesa') & (df.bimestre == 'resultado final') & (df.coordenacao_regional == 'CRE - Plano Piloto')]\n",
        "    .loc[:,['nota_bimestral']]\n",
        "    .mean()\n",
        ")\n",
        "\n",
        "media_cre_planopiloto"
      ],
      "execution_count": 0,
      "outputs": [
        {
          "output_type": "execute_result",
          "data": {
            "text/plain": [
              "nota_bimestral    5.912861\n",
              "dtype: float64"
            ]
          },
          "metadata": {
            "tags": []
          },
          "execution_count": 73
        }
      ]
    },
    {
      "cell_type": "markdown",
      "metadata": {
        "id": "om0GAV6BSZhn",
        "colab_type": "text"
      },
      "source": [
        "* Verificando a média das outras CRE's:"
      ]
    },
    {
      "cell_type": "code",
      "metadata": {
        "id": "7IyUbtKKwTJW",
        "colab_type": "code",
        "outputId": "da9b35f0-0deb-4c7d-97ff-9e0123bee086",
        "colab": {
          "base_uri": "https://localhost:8080/",
          "height": 54
        }
      },
      "source": [
        "media_resto = (\n",
        "    df[(df.serie == '1ª Série') & (df.disciplina == 'Língua Portuguesa') & (df.bimestre == 'resultado final') & (df.coordenacao_regional != 'CRE - Plano Piloto')]\n",
        "    .loc[:,['nota_bimestral']]\n",
        "    .mean()\n",
        ")\n",
        "\n",
        "media_resto"
      ],
      "execution_count": 0,
      "outputs": [
        {
          "output_type": "execute_result",
          "data": {
            "text/plain": [
              "nota_bimestral    6.018709\n",
              "dtype: float64"
            ]
          },
          "metadata": {
            "tags": []
          },
          "execution_count": 74
        }
      ]
    },
    {
      "cell_type": "markdown",
      "metadata": {
        "id": "pXg59ZN4SjmU",
        "colab_type": "text"
      },
      "source": [
        "* Verificando a média da disciplina Língua Portuguesa em cada CRE:"
      ]
    },
    {
      "cell_type": "code",
      "metadata": {
        "id": "ntj7neCAwjbo",
        "colab_type": "code",
        "outputId": "0fa0236c-a5ca-453b-c8c8-39df63ae326a",
        "colab": {
          "base_uri": "https://localhost:8080/",
          "height": 489
        }
      },
      "source": [
        "df_1serie = df[df['serie'] == '1ª Série']\n",
        "df_1s_pt = df_1serie[df_1serie['disciplina'] == 'Língua Portuguesa']\n",
        "df_1s_pt_final = df_1s_pt[df_1s_pt['bimestre'] == 'resultado final']\n",
        "df_drop = df_1s_pt_final.drop_duplicates(['cod_aluno'])\n",
        "coords_max_notas = df_drop.groupby('coordenacao_regional').nota_bimestral.mean().reset_index()\n",
        "df_renomear = coords_max_notas.rename(columns={'coordenacao_regional':'Coordenação Regional', 'nota_bimestral':'Nota média em Língua Portuguesa'})\n",
        "df_sort = df_renomear.sort_values(['Nota média em Língua Portuguesa'], ascending = (True)).reset_index()\n",
        "df_index = df_sort.drop(['index'],axis=1)\n",
        "\n",
        "df_index"
      ],
      "execution_count": 0,
      "outputs": [
        {
          "output_type": "execute_result",
          "data": {
            "text/html": [
              "<div>\n",
              "<style scoped>\n",
              "    .dataframe tbody tr th:only-of-type {\n",
              "        vertical-align: middle;\n",
              "    }\n",
              "\n",
              "    .dataframe tbody tr th {\n",
              "        vertical-align: top;\n",
              "    }\n",
              "\n",
              "    .dataframe thead th {\n",
              "        text-align: right;\n",
              "    }\n",
              "</style>\n",
              "<table border=\"1\" class=\"dataframe\">\n",
              "  <thead>\n",
              "    <tr style=\"text-align: right;\">\n",
              "      <th></th>\n",
              "      <th>Coordenação Regional</th>\n",
              "      <th>Nota média em Língua Portuguesa</th>\n",
              "    </tr>\n",
              "  </thead>\n",
              "  <tbody>\n",
              "    <tr>\n",
              "      <th>0</th>\n",
              "      <td>CRE - Gama</td>\n",
              "      <td>5.343053</td>\n",
              "    </tr>\n",
              "    <tr>\n",
              "      <th>1</th>\n",
              "      <td>CRE - Brazlândia</td>\n",
              "      <td>5.404868</td>\n",
              "    </tr>\n",
              "    <tr>\n",
              "      <th>2</th>\n",
              "      <td>CRE - Planaltina</td>\n",
              "      <td>5.741006</td>\n",
              "    </tr>\n",
              "    <tr>\n",
              "      <th>3</th>\n",
              "      <td>CRE - Taguatinga</td>\n",
              "      <td>5.742273</td>\n",
              "    </tr>\n",
              "    <tr>\n",
              "      <th>4</th>\n",
              "      <td>CRE - Plano Piloto</td>\n",
              "      <td>5.912861</td>\n",
              "    </tr>\n",
              "    <tr>\n",
              "      <th>5</th>\n",
              "      <td>CRE - Santa Maria</td>\n",
              "      <td>5.918060</td>\n",
              "    </tr>\n",
              "    <tr>\n",
              "      <th>6</th>\n",
              "      <td>CRE - Núcleo Bandeirante</td>\n",
              "      <td>6.025726</td>\n",
              "    </tr>\n",
              "    <tr>\n",
              "      <th>7</th>\n",
              "      <td>CRE - Sobradinho</td>\n",
              "      <td>6.046464</td>\n",
              "    </tr>\n",
              "    <tr>\n",
              "      <th>8</th>\n",
              "      <td>CRE - Guará</td>\n",
              "      <td>6.171424</td>\n",
              "    </tr>\n",
              "    <tr>\n",
              "      <th>9</th>\n",
              "      <td>CRE - Ceilândia</td>\n",
              "      <td>6.242680</td>\n",
              "    </tr>\n",
              "    <tr>\n",
              "      <th>10</th>\n",
              "      <td>CRE - Samambaia</td>\n",
              "      <td>6.279933</td>\n",
              "    </tr>\n",
              "    <tr>\n",
              "      <th>11</th>\n",
              "      <td>CRE - São Sebastião</td>\n",
              "      <td>6.381523</td>\n",
              "    </tr>\n",
              "    <tr>\n",
              "      <th>12</th>\n",
              "      <td>CRE - Paranoá</td>\n",
              "      <td>6.429368</td>\n",
              "    </tr>\n",
              "    <tr>\n",
              "      <th>13</th>\n",
              "      <td>CRE - Recanto das Emas</td>\n",
              "      <td>6.809578</td>\n",
              "    </tr>\n",
              "  </tbody>\n",
              "</table>\n",
              "</div>"
            ],
            "text/plain": [
              "        Coordenação Regional  Nota média em Língua Portuguesa\n",
              "0                 CRE - Gama                         5.343053\n",
              "1           CRE - Brazlândia                         5.404868\n",
              "2           CRE - Planaltina                         5.741006\n",
              "3           CRE - Taguatinga                         5.742273\n",
              "4         CRE - Plano Piloto                         5.912861\n",
              "5          CRE - Santa Maria                         5.918060\n",
              "6   CRE - Núcleo Bandeirante                         6.025726\n",
              "7           CRE - Sobradinho                         6.046464\n",
              "8                CRE - Guará                         6.171424\n",
              "9            CRE - Ceilândia                         6.242680\n",
              "10           CRE - Samambaia                         6.279933\n",
              "11       CRE - São Sebastião                         6.381523\n",
              "12             CRE - Paranoá                         6.429368\n",
              "13    CRE - Recanto das Emas                         6.809578"
            ]
          },
          "metadata": {
            "tags": []
          },
          "execution_count": 131
        }
      ]
    },
    {
      "cell_type": "markdown",
      "metadata": {
        "id": "MHl1Sjnok7oa",
        "colab_type": "text"
      },
      "source": [
        "Falso. A média das notas finais de Língua Portuguesa da CRE - Plano Piloto foi de 5.912861, enquanto a média das notas finais das outras CRE's foi de 6.018709. Vale destacar que a CRE cujas escolas tiveram melhor desempenho foi a CRE - Recanto das Emas."
      ]
    },
    {
      "cell_type": "markdown",
      "metadata": {
        "id": "2uBxSZ5Guehx",
        "colab_type": "text"
      },
      "source": [
        "# Levando em consideração que para ser considerado aprovado o aluno deve tirar uma nota final maior do que 5, qual matéria do ensino médio reprova mais?"
      ]
    },
    {
      "cell_type": "code",
      "metadata": {
        "id": "NAzQee61DV5h",
        "colab_type": "code",
        "outputId": "9870cdc5-0526-4700-eae2-48d35d23f806",
        "colab": {
          "base_uri": "https://localhost:8080/"
        }
      },
      "source": [
        "reprova = (\n",
        "    df[(df.curso == 'Ensino Médio') & (df.bimestre == 'resultado final') & (df.nota_bimestral < 5)]\n",
        "    .groupby('disciplina').nota_bimestral.count().reset_index()\n",
        "    .rename(columns={'disciplina':'Disciplinas','nota_bimestral':'Quantidade de Alunos(as)'})\n",
        "    .sort_values(['Quantidade de Alunos(as)'], ascending = (True)).reset_index()\n",
        "    .drop(['index'],axis=1)\n",
        ")\n",
        "\n",
        "reprova"
      ],
      "execution_count": 0,
      "outputs": [
        {
          "output_type": "execute_result",
          "data": {
            "text/html": [
              "<div>\n",
              "<style scoped>\n",
              "    .dataframe tbody tr th:only-of-type {\n",
              "        vertical-align: middle;\n",
              "    }\n",
              "\n",
              "    .dataframe tbody tr th {\n",
              "        vertical-align: top;\n",
              "    }\n",
              "\n",
              "    .dataframe thead th {\n",
              "        text-align: right;\n",
              "    }\n",
              "</style>\n",
              "<table border=\"1\" class=\"dataframe\">\n",
              "  <thead>\n",
              "    <tr style=\"text-align: right;\">\n",
              "      <th></th>\n",
              "      <th>Disciplinas</th>\n",
              "      <th>Quantidade de Alunos(as)</th>\n",
              "    </tr>\n",
              "  </thead>\n",
              "  <tbody>\n",
              "    <tr>\n",
              "      <th>0</th>\n",
              "      <td>Educação Física</td>\n",
              "      <td>1655</td>\n",
              "    </tr>\n",
              "    <tr>\n",
              "      <th>1</th>\n",
              "      <td>Arte</td>\n",
              "      <td>3462</td>\n",
              "    </tr>\n",
              "    <tr>\n",
              "      <th>2</th>\n",
              "      <td>Geografia</td>\n",
              "      <td>4571</td>\n",
              "    </tr>\n",
              "    <tr>\n",
              "      <th>3</th>\n",
              "      <td>Sociologia</td>\n",
              "      <td>4599</td>\n",
              "    </tr>\n",
              "    <tr>\n",
              "      <th>4</th>\n",
              "      <td>Língua Estrangeira - Inglês</td>\n",
              "      <td>4633</td>\n",
              "    </tr>\n",
              "    <tr>\n",
              "      <th>5</th>\n",
              "      <td>Filosofia</td>\n",
              "      <td>4980</td>\n",
              "    </tr>\n",
              "    <tr>\n",
              "      <th>6</th>\n",
              "      <td>História</td>\n",
              "      <td>4988</td>\n",
              "    </tr>\n",
              "    <tr>\n",
              "      <th>7</th>\n",
              "      <td>Língua Estrangeira - Espanhol</td>\n",
              "      <td>5108</td>\n",
              "    </tr>\n",
              "    <tr>\n",
              "      <th>8</th>\n",
              "      <td>Biologia</td>\n",
              "      <td>5827</td>\n",
              "    </tr>\n",
              "    <tr>\n",
              "      <th>9</th>\n",
              "      <td>Língua Portuguesa</td>\n",
              "      <td>6770</td>\n",
              "    </tr>\n",
              "    <tr>\n",
              "      <th>10</th>\n",
              "      <td>Física</td>\n",
              "      <td>8164</td>\n",
              "    </tr>\n",
              "    <tr>\n",
              "      <th>11</th>\n",
              "      <td>Química</td>\n",
              "      <td>8470</td>\n",
              "    </tr>\n",
              "    <tr>\n",
              "      <th>12</th>\n",
              "      <td>Projeto Interdisciplinar I</td>\n",
              "      <td>10353</td>\n",
              "    </tr>\n",
              "    <tr>\n",
              "      <th>13</th>\n",
              "      <td>Matemática</td>\n",
              "      <td>10783</td>\n",
              "    </tr>\n",
              "    <tr>\n",
              "      <th>14</th>\n",
              "      <td>Projeto Interdisciplinar II</td>\n",
              "      <td>16165</td>\n",
              "    </tr>\n",
              "    <tr>\n",
              "      <th>15</th>\n",
              "      <td>Projeto Interdisciplinar III</td>\n",
              "      <td>17848</td>\n",
              "    </tr>\n",
              "    <tr>\n",
              "      <th>16</th>\n",
              "      <td>Ensino Religioso</td>\n",
              "      <td>24181</td>\n",
              "    </tr>\n",
              "  </tbody>\n",
              "</table>\n",
              "</div>"
            ],
            "text/plain": [
              "                      Disciplinas  Quantidade de Alunos(as)\n",
              "0                 Educação Física                      1655\n",
              "1                            Arte                      3462\n",
              "2                       Geografia                      4571\n",
              "3                      Sociologia                      4599\n",
              "4     Língua Estrangeira - Inglês                      4633\n",
              "5                       Filosofia                      4980\n",
              "6                        História                      4988\n",
              "7   Língua Estrangeira - Espanhol                      5108\n",
              "8                        Biologia                      5827\n",
              "9               Língua Portuguesa                      6770\n",
              "10                         Física                      8164\n",
              "11                        Química                      8470\n",
              "12     Projeto Interdisciplinar I                     10353\n",
              "13                     Matemática                     10783\n",
              "14    Projeto Interdisciplinar II                     16165\n",
              "15   Projeto Interdisciplinar III                     17848\n",
              "16               Ensino Religioso                     24181"
            ]
          },
          "metadata": {
            "tags": []
          },
          "execution_count": 139
        }
      ]
    },
    {
      "cell_type": "markdown",
      "metadata": {
        "id": "4UU3KL3xVrOD",
        "colab_type": "text"
      },
      "source": [
        "A matéria que mais reprova é Ensino Religioso. "
      ]
    },
    {
      "cell_type": "markdown",
      "metadata": {
        "id": "7AgfsHz41jzv",
        "colab_type": "text"
      },
      "source": [
        "# Criando um dataframe onde:\n",
        "\n",
        ">Cada linha será um aluno (sem repetições) e somente alunos do terceiro ano;\n",
        "\n",
        ">Cada coluna será uma matéria da lista [matemática, português, física, química, biologia, história, geografia];\n",
        "\n",
        ">Cada valor da coluna será a nota final daquele aluno para aquela matéria.\n",
        "\n",
        "\n",
        "\n",
        "\n",
        "O dataframe será nomeado new_df."
      ]
    },
    {
      "cell_type": "code",
      "metadata": {
        "id": "ay4wrRQK3LKB",
        "colab_type": "code",
        "outputId": "b7c00689-ba36-4761-c3a3-4940aed6b58f",
        "colab": {
          "base_uri": "https://localhost:8080/",
          "height": 424
        }
      },
      "source": [
        "lista_disciplinas = ['Matemática','Língua Portuguesa','Física','Química','Biologia','História','Geografia']\n",
        "\n",
        "df_serie = df[df.serie == '3ª Série']\n",
        "df_resultado = df_serie[df_serie.bimestre == 'resultado final']\n",
        "df_disciplinas = df_resultado[df_resultado.disciplina.isin(lista_disciplinas)]\n",
        "\n",
        "new_df = pd.pivot_table(\n",
        "    df_disciplinas,\n",
        "    columns = 'disciplina',\n",
        "    index = 'cod_aluno',\n",
        "    values = 'nota_bimestral'\n",
        ").reset_index()\n",
        "\n",
        "new_df"
      ],
      "execution_count": 0,
      "outputs": [
        {
          "output_type": "execute_result",
          "data": {
            "text/html": [
              "<div>\n",
              "<style scoped>\n",
              "    .dataframe tbody tr th:only-of-type {\n",
              "        vertical-align: middle;\n",
              "    }\n",
              "\n",
              "    .dataframe tbody tr th {\n",
              "        vertical-align: top;\n",
              "    }\n",
              "\n",
              "    .dataframe thead th {\n",
              "        text-align: right;\n",
              "    }\n",
              "</style>\n",
              "<table border=\"1\" class=\"dataframe\">\n",
              "  <thead>\n",
              "    <tr style=\"text-align: right;\">\n",
              "      <th>disciplina</th>\n",
              "      <th>cod_aluno</th>\n",
              "      <th>Biologia</th>\n",
              "      <th>Física</th>\n",
              "      <th>Geografia</th>\n",
              "      <th>História</th>\n",
              "      <th>Língua Portuguesa</th>\n",
              "      <th>Matemática</th>\n",
              "      <th>Química</th>\n",
              "    </tr>\n",
              "  </thead>\n",
              "  <tbody>\n",
              "    <tr>\n",
              "      <th>0</th>\n",
              "      <td>-9222315045875238055</td>\n",
              "      <td>9.999</td>\n",
              "      <td>9.999</td>\n",
              "      <td>9.999</td>\n",
              "      <td>9.999</td>\n",
              "      <td>9.999</td>\n",
              "      <td>9.999</td>\n",
              "      <td>9.999</td>\n",
              "    </tr>\n",
              "    <tr>\n",
              "      <th>1</th>\n",
              "      <td>-9221925063589591595</td>\n",
              "      <td>5.500</td>\n",
              "      <td>5.500</td>\n",
              "      <td>6.500</td>\n",
              "      <td>5.500</td>\n",
              "      <td>6.500</td>\n",
              "      <td>5.500</td>\n",
              "      <td>6.500</td>\n",
              "    </tr>\n",
              "    <tr>\n",
              "      <th>2</th>\n",
              "      <td>-9221882012413132674</td>\n",
              "      <td>8.500</td>\n",
              "      <td>7.500</td>\n",
              "      <td>8.500</td>\n",
              "      <td>9.500</td>\n",
              "      <td>9.000</td>\n",
              "      <td>9.500</td>\n",
              "      <td>7.500</td>\n",
              "    </tr>\n",
              "    <tr>\n",
              "      <th>3</th>\n",
              "      <td>-9219488772448250343</td>\n",
              "      <td>6.500</td>\n",
              "      <td>6.000</td>\n",
              "      <td>5.500</td>\n",
              "      <td>6.500</td>\n",
              "      <td>6.500</td>\n",
              "      <td>6.000</td>\n",
              "      <td>6.000</td>\n",
              "    </tr>\n",
              "    <tr>\n",
              "      <th>4</th>\n",
              "      <td>-9219232352633633557</td>\n",
              "      <td>6.000</td>\n",
              "      <td>0.000</td>\n",
              "      <td>0.000</td>\n",
              "      <td>5.500</td>\n",
              "      <td>0.000</td>\n",
              "      <td>0.000</td>\n",
              "      <td>0.000</td>\n",
              "    </tr>\n",
              "    <tr>\n",
              "      <th>...</th>\n",
              "      <td>...</td>\n",
              "      <td>...</td>\n",
              "      <td>...</td>\n",
              "      <td>...</td>\n",
              "      <td>...</td>\n",
              "      <td>...</td>\n",
              "      <td>...</td>\n",
              "      <td>...</td>\n",
              "    </tr>\n",
              "    <tr>\n",
              "      <th>20164</th>\n",
              "      <td>9214336997376747859</td>\n",
              "      <td>9.999</td>\n",
              "      <td>9.999</td>\n",
              "      <td>9.999</td>\n",
              "      <td>9.999</td>\n",
              "      <td>9.999</td>\n",
              "      <td>9.999</td>\n",
              "      <td>9.999</td>\n",
              "    </tr>\n",
              "    <tr>\n",
              "      <th>20165</th>\n",
              "      <td>9214797594704690965</td>\n",
              "      <td>5.500</td>\n",
              "      <td>7.500</td>\n",
              "      <td>6.500</td>\n",
              "      <td>5.000</td>\n",
              "      <td>5.000</td>\n",
              "      <td>6.000</td>\n",
              "      <td>5.500</td>\n",
              "    </tr>\n",
              "    <tr>\n",
              "      <th>20166</th>\n",
              "      <td>9219327182647531473</td>\n",
              "      <td>6.000</td>\n",
              "      <td>5.500</td>\n",
              "      <td>5.500</td>\n",
              "      <td>5.500</td>\n",
              "      <td>6.500</td>\n",
              "      <td>5.500</td>\n",
              "      <td>5.500</td>\n",
              "    </tr>\n",
              "    <tr>\n",
              "      <th>20167</th>\n",
              "      <td>9219458618526893803</td>\n",
              "      <td>5.500</td>\n",
              "      <td>5.500</td>\n",
              "      <td>6.000</td>\n",
              "      <td>5.000</td>\n",
              "      <td>6.000</td>\n",
              "      <td>6.000</td>\n",
              "      <td>5.500</td>\n",
              "    </tr>\n",
              "    <tr>\n",
              "      <th>20168</th>\n",
              "      <td>9219684366813951946</td>\n",
              "      <td>5.000</td>\n",
              "      <td>5.000</td>\n",
              "      <td>6.000</td>\n",
              "      <td>5.000</td>\n",
              "      <td>5.000</td>\n",
              "      <td>5.500</td>\n",
              "      <td>5.000</td>\n",
              "    </tr>\n",
              "  </tbody>\n",
              "</table>\n",
              "<p>20169 rows × 8 columns</p>\n",
              "</div>"
            ],
            "text/plain": [
              "disciplina            cod_aluno  Biologia  ...  Matemática  Química\n",
              "0          -9222315045875238055     9.999  ...       9.999    9.999\n",
              "1          -9221925063589591595     5.500  ...       5.500    6.500\n",
              "2          -9221882012413132674     8.500  ...       9.500    7.500\n",
              "3          -9219488772448250343     6.500  ...       6.000    6.000\n",
              "4          -9219232352633633557     6.000  ...       0.000    0.000\n",
              "...                         ...       ...  ...         ...      ...\n",
              "20164       9214336997376747859     9.999  ...       9.999    9.999\n",
              "20165       9214797594704690965     5.500  ...       6.000    5.500\n",
              "20166       9219327182647531473     6.000  ...       5.500    5.500\n",
              "20167       9219458618526893803     5.500  ...       6.000    5.500\n",
              "20168       9219684366813951946     5.000  ...       5.500    5.000\n",
              "\n",
              "[20169 rows x 8 columns]"
            ]
          },
          "metadata": {
            "tags": []
          },
          "execution_count": 167
        }
      ]
    },
    {
      "cell_type": "markdown",
      "metadata": {
        "id": "-jautYdG8X3-",
        "colab_type": "text"
      },
      "source": [
        "Primeiro a base foi filtrada de acordo com as disciplinas e série solicitadas. Após isso fez-se um pivot_table, colocando os códigos dos alunos como index, as disciplinas como colunas e as notas bimestrais do resultado final de cada aluno como valores."
      ]
    },
    {
      "cell_type": "code",
      "metadata": {
        "id": "5VSZ6GrL4VZE",
        "colab_type": "code",
        "outputId": "88250b87-8799-4b74-b0f7-6bafd20b0fe9",
        "colab": {
          "base_uri": "https://localhost:8080/",
          "height": 35
        }
      },
      "source": [
        "new_df.cod_aluno.nunique()"
      ],
      "execution_count": 0,
      "outputs": [
        {
          "output_type": "execute_result",
          "data": {
            "text/plain": [
              "20169"
            ]
          },
          "metadata": {
            "tags": []
          },
          "execution_count": 26
        }
      ]
    },
    {
      "cell_type": "markdown",
      "metadata": {
        "id": "wlH9QlW89CyH",
        "colab_type": "text"
      },
      "source": [
        "Verificando se os códigos dos alunos estão se repetindo. Pode-se perceber que não há repetições, já que o número de linhas também foi de 20.169."
      ]
    },
    {
      "cell_type": "markdown",
      "metadata": {
        "id": "taypD-zEumeM",
        "colab_type": "text"
      },
      "source": [
        "# Existem valores nulos em new_df? Se sim, diga qual é a localização de cada valor nulo (index,column), trate os valores nulos da forma que achar mais adequada e descreva o porque tomou essa decisão."
      ]
    },
    {
      "cell_type": "code",
      "metadata": {
        "id": "lCKNdwdLuWGJ",
        "colab_type": "code",
        "outputId": "84e10b9b-22cf-4a66-d825-5298a788567e",
        "colab": {
          "base_uri": "https://localhost:8080/",
          "height": 201
        }
      },
      "source": [
        "new_df.isna().sum()"
      ],
      "execution_count": 0,
      "outputs": [
        {
          "output_type": "execute_result",
          "data": {
            "text/plain": [
              "disciplina\n",
              "cod_aluno             0\n",
              "Biologia              5\n",
              "Física                7\n",
              "Geografia            12\n",
              "História              2\n",
              "Língua Portuguesa     1\n",
              "Matemática            8\n",
              "Química               9\n",
              "dtype: int64"
            ]
          },
          "metadata": {
            "tags": []
          },
          "execution_count": 41
        }
      ]
    },
    {
      "cell_type": "markdown",
      "metadata": {
        "id": "Gh7-x8dujFsY",
        "colab_type": "text"
      },
      "source": [
        "Sim, existem 5 valores nulos em Biologia, 7 em Física, 12 em Geografia, 2 em História, 1 em Língua Portuguesa, 8 em Matemática e 9 em Química. "
      ]
    },
    {
      "cell_type": "code",
      "metadata": {
        "id": "wFppeLmffAO6",
        "colab_type": "code",
        "outputId": "e6c87b7e-81fd-42e6-9e98-868a95f5e142",
        "colab": {
          "base_uri": "https://localhost:8080/",
          "height": 146
        }
      },
      "source": [
        "np.where(np.asanyarray(np.isnan(new_df)))"
      ],
      "execution_count": 0,
      "outputs": [
        {
          "output_type": "execute_result",
          "data": {
            "text/plain": [
              "(array([  257,   974,  1291,  2596,  2918,  3001,  3552,  4564,  4669,\n",
              "         5563,  5563,  5591,  5591,  5617,  5991,  6361,  6604,  6893,\n",
              "         7864,  8754,  9571, 10056, 10969, 11249, 11485, 11710, 13119,\n",
              "        14158, 14194, 14656, 15591, 16220, 17295, 18280, 18280, 18908,\n",
              "        18908, 18908, 18908, 19284, 19284, 19529, 19529, 19690]),\n",
              " array([4, 6, 5, 2, 6, 6, 6, 2, 3, 1, 7, 1, 7, 3, 2, 6, 6, 3, 4, 3, 7, 3,\n",
              "        7, 7, 2, 3, 2, 3, 6, 3, 3, 3, 3, 1, 7, 1, 2, 6, 7, 2, 3, 1, 7, 7]))"
            ]
          },
          "metadata": {
            "tags": []
          },
          "execution_count": 49
        }
      ]
    },
    {
      "cell_type": "markdown",
      "metadata": {
        "id": "aCDosYUBjhhr",
        "colab_type": "text"
      },
      "source": [
        "Este foi o código para demonstrar a localização de cada valor nulo por index e coluna. "
      ]
    },
    {
      "cell_type": "markdown",
      "metadata": {
        "id": "0xh5eplXktyt",
        "colab_type": "text"
      },
      "source": [
        "#Tratamento dos valores nulos\n",
        "\n",
        "Biologia:"
      ]
    },
    {
      "cell_type": "markdown",
      "metadata": {
        "id": "2C4MVfxzVZav",
        "colab_type": "text"
      },
      "source": [
        "* Verificando a mediana de Biologia:"
      ]
    },
    {
      "cell_type": "code",
      "metadata": {
        "id": "NthO-4ybj33v",
        "colab_type": "code",
        "outputId": "e961c55a-a9a7-4236-bf00-b0577032234f",
        "colab": {
          "base_uri": "https://localhost:8080/",
          "height": 35
        }
      },
      "source": [
        "mediana_bio = new_df.Biologia.median()\n",
        "\n",
        "print(mediana)"
      ],
      "execution_count": 0,
      "outputs": [
        {
          "output_type": "stream",
          "text": [
            "6.0\n"
          ],
          "name": "stdout"
        }
      ]
    },
    {
      "cell_type": "markdown",
      "metadata": {
        "id": "FTBifGIuVdkr",
        "colab_type": "text"
      },
      "source": [
        "* Verificando a média de Biologia:"
      ]
    },
    {
      "cell_type": "code",
      "metadata": {
        "id": "iGv-FvaUm9UL",
        "colab_type": "code",
        "outputId": "f5c54cd0-740c-40cc-b2b6-2a32975581de",
        "colab": {
          "base_uri": "https://localhost:8080/",
          "height": 35
        }
      },
      "source": [
        "media_bio = new_df.Biologia.mean()\n",
        "\n",
        "print(media_bio)"
      ],
      "execution_count": 0,
      "outputs": [
        {
          "output_type": "stream",
          "text": [
            "6.300778799188524\n"
          ],
          "name": "stdout"
        }
      ]
    },
    {
      "cell_type": "markdown",
      "metadata": {
        "id": "CDf9mtk2VpZr",
        "colab_type": "text"
      },
      "source": [
        "* Verificando a distribuição das notas:"
      ]
    },
    {
      "cell_type": "code",
      "metadata": {
        "id": "O69YBpb4j8it",
        "colab_type": "code",
        "outputId": "1d161732-9906-4e8d-d7c6-8ed182576248",
        "colab": {
          "base_uri": "https://localhost:8080/",
          "height": 338
        }
      },
      "source": [
        "plt.figure()\n",
        "plt.hist(new_df.Biologia)"
      ],
      "execution_count": 0,
      "outputs": [
        {
          "output_type": "execute_result",
          "data": {
            "text/plain": [
              "(array([ 449.,   33.,   57.,   68.,   47., 6964., 6389., 3279., 1110.,\n",
              "        1768.]),\n",
              " array([ 0.,  1.,  2.,  3.,  4.,  5.,  6.,  7.,  8.,  9., 10.]),\n",
              " <a list of 10 Patch objects>)"
            ]
          },
          "metadata": {
            "tags": []
          },
          "execution_count": 53
        },
        {
          "output_type": "display_data",
          "data": {
            "image/png": "[encoded data removed]",
            "text/plain": [
              "<Figure size 432x288 with 1 Axes>"
            ]
          },
          "metadata": {
            "tags": [],
            "needs_background": "light"
          }
        }
      ]
    },
    {
      "cell_type": "markdown",
      "metadata": {
        "id": "4QQLR_AMV4Jt",
        "colab_type": "text"
      },
      "source": [
        "* Decidiu-se pela imputação da mediana das notas de Biologia nos valores nulos, pois percebeu-se que se trata de uma distribuição assimétrica à direita."
      ]
    },
    {
      "cell_type": "code",
      "metadata": {
        "id": "YZo0TvOaoZbh",
        "colab_type": "code",
        "colab": {}
      },
      "source": [
        "imputacao_biologia = new_df['Biologia'].fillna(mediana_bio, inplace=True)"
      ],
      "execution_count": 0,
      "outputs": []
    },
    {
      "cell_type": "markdown",
      "metadata": {
        "id": "OGNlEt7XWAf_",
        "colab_type": "text"
      },
      "source": [
        "* Verificando se ainda há valores nulos:"
      ]
    },
    {
      "cell_type": "code",
      "metadata": {
        "id": "9CxzqLPWwCeZ",
        "colab_type": "code",
        "outputId": "b3937be9-621a-4e79-bd37-ae05b117fa72",
        "colab": {
          "base_uri": "https://localhost:8080/",
          "height": 35
        }
      },
      "source": [
        "new_df['Biologia'].isna().sum()"
      ],
      "execution_count": 0,
      "outputs": [
        {
          "output_type": "execute_result",
          "data": {
            "text/plain": [
              "0"
            ]
          },
          "metadata": {
            "tags": []
          },
          "execution_count": 169
        }
      ]
    },
    {
      "cell_type": "markdown",
      "metadata": {
        "id": "YoE-bADOwcXP",
        "colab_type": "text"
      },
      "source": [
        "Física:"
      ]
    },
    {
      "cell_type": "markdown",
      "metadata": {
        "id": "yZGLjAEbWKDS",
        "colab_type": "text"
      },
      "source": [
        "* Verificando a média das notas de Física:"
      ]
    },
    {
      "cell_type": "code",
      "metadata": {
        "id": "IWKNNe_owTh4",
        "colab_type": "code",
        "outputId": "a6eacd58-6455-4db9-e8c2-84b72310bcc9",
        "colab": {
          "base_uri": "https://localhost:8080/",
          "height": 35
        }
      },
      "source": [
        "media_fisica = new_df['Física'].mean()\n",
        "\n",
        "print(media_fisica)"
      ],
      "execution_count": 0,
      "outputs": [
        {
          "output_type": "stream",
          "text": [
            "6.146949444838685\n"
          ],
          "name": "stdout"
        }
      ]
    },
    {
      "cell_type": "markdown",
      "metadata": {
        "id": "xSfDHcd7WPN6",
        "colab_type": "text"
      },
      "source": [
        "* Verificando a mediana das notas de Física:"
      ]
    },
    {
      "cell_type": "code",
      "metadata": {
        "id": "1M8AUolxwqES",
        "colab_type": "code",
        "outputId": "f2f1244d-27c1-4435-da10-70da0974a2e2",
        "colab": {
          "base_uri": "https://localhost:8080/",
          "height": 35
        }
      },
      "source": [
        "mediana_fisica = new_df['Física'].median()\n",
        "\n",
        "print(mediana_fisica)"
      ],
      "execution_count": 0,
      "outputs": [
        {
          "output_type": "stream",
          "text": [
            "6.0\n"
          ],
          "name": "stdout"
        }
      ]
    },
    {
      "cell_type": "markdown",
      "metadata": {
        "id": "S28u_3KwWT8e",
        "colab_type": "text"
      },
      "source": [
        "* Verificando a distribuição dos dados:"
      ]
    },
    {
      "cell_type": "code",
      "metadata": {
        "id": "OSNdIhwLw6K9",
        "colab_type": "code",
        "outputId": "ab6d5fe6-51ca-44a9-af4e-3965a5e249b3",
        "colab": {
          "base_uri": "https://localhost:8080/",
          "height": 338
        }
      },
      "source": [
        "plt.figure()\n",
        "plt.hist(new_df['Física'])"
      ],
      "execution_count": 0,
      "outputs": [
        {
          "output_type": "execute_result",
          "data": {
            "text/plain": [
              "(array([ 496.,   83.,   71.,   87.,   83., 8031., 5920., 2778.,  897.,\n",
              "        1716.]),\n",
              " array([ 0.,  1.,  2.,  3.,  4.,  5.,  6.,  7.,  8.,  9., 10.]),\n",
              " <a list of 10 Patch objects>)"
            ]
          },
          "metadata": {
            "tags": []
          },
          "execution_count": 70
        },
        {
          "output_type": "display_data",
          "data": {
            "image/png": "[encoded data removed]",
            "text/plain": [
              "<Figure size 432x288 with 1 Axes>"
            ]
          },
          "metadata": {
            "tags": [],
            "needs_background": "light"
          }
        }
      ]
    },
    {
      "cell_type": "markdown",
      "metadata": {
        "id": "AZS97zriWcMW",
        "colab_type": "text"
      },
      "source": [
        "Decidiu-se pela imputação da mediana das notas de Física nos valores nulos, pois percebeu-se que se trata de uma distribuição assimétrica à direita."
      ]
    },
    {
      "cell_type": "code",
      "metadata": {
        "id": "FxPkcUc9xIWN",
        "colab_type": "code",
        "colab": {}
      },
      "source": [
        "imputacao_fisica = new_df['Física'].fillna(mediana_fisica, inplace=True)"
      ],
      "execution_count": 0,
      "outputs": []
    },
    {
      "cell_type": "markdown",
      "metadata": {
        "id": "eFCW4V4KonXk",
        "colab_type": "text"
      },
      "source": [
        "* Verificando se ainda há valores nulos em Física:"
      ]
    },
    {
      "cell_type": "code",
      "metadata": {
        "id": "G1FB3H0Jxa8U",
        "colab_type": "code",
        "outputId": "ab8f21e0-d2f4-4112-8b60-144f708bff59",
        "colab": {
          "base_uri": "https://localhost:8080/",
          "height": 35
        }
      },
      "source": [
        "new_df['Física'].isna().sum()"
      ],
      "execution_count": 0,
      "outputs": [
        {
          "output_type": "execute_result",
          "data": {
            "text/plain": [
              "0"
            ]
          },
          "metadata": {
            "tags": []
          },
          "execution_count": 151
        }
      ]
    },
    {
      "cell_type": "markdown",
      "metadata": {
        "id": "QbeZL2VfxpeL",
        "colab_type": "text"
      },
      "source": [
        "Geografia:"
      ]
    },
    {
      "cell_type": "markdown",
      "metadata": {
        "id": "rPItAIEaozmd",
        "colab_type": "text"
      },
      "source": [
        "* Verificando a média de Geografia:"
      ]
    },
    {
      "cell_type": "code",
      "metadata": {
        "id": "YrLq8JJ5xhds",
        "colab_type": "code",
        "outputId": "37c84b47-c027-44ee-deb3-917643f6760b",
        "colab": {
          "base_uri": "https://localhost:8080/",
          "height": 35
        }
      },
      "source": [
        "media_geo = new_df.Geografia.mean()\n",
        "\n",
        "print(media_geo)"
      ],
      "execution_count": 0,
      "outputs": [
        {
          "output_type": "stream",
          "text": [
            "6.563195748693628\n"
          ],
          "name": "stdout"
        }
      ]
    },
    {
      "cell_type": "markdown",
      "metadata": {
        "id": "77eSahA_o6Fe",
        "colab_type": "text"
      },
      "source": [
        "* Verificando a mediana de Geografia:"
      ]
    },
    {
      "cell_type": "code",
      "metadata": {
        "id": "6dKdfMRZx3vj",
        "colab_type": "code",
        "outputId": "2ea9f4fe-417b-48a9-9324-22f2485f47bc",
        "colab": {
          "base_uri": "https://localhost:8080/",
          "height": 35
        }
      },
      "source": [
        "mediana_geo = new_df.Geografia.median()\n",
        "\n",
        "print(mediana_geo)"
      ],
      "execution_count": 0,
      "outputs": [
        {
          "output_type": "stream",
          "text": [
            "6.5\n"
          ],
          "name": "stdout"
        }
      ]
    },
    {
      "cell_type": "markdown",
      "metadata": {
        "id": "pZUut-90qDxd",
        "colab_type": "text"
      },
      "source": [
        "* Verificando a distribuição dos dados:"
      ]
    },
    {
      "cell_type": "code",
      "metadata": {
        "id": "xAQYnoXyyI6B",
        "colab_type": "code",
        "outputId": "f43ae03f-892b-483e-d0ce-6ddd7b05e00f",
        "colab": {
          "base_uri": "https://localhost:8080/",
          "height": 342
        }
      },
      "source": [
        "plt.figure()\n",
        "plt.hist(new_df['Geografia'])"
      ],
      "execution_count": 0,
      "outputs": [
        {
          "output_type": "execute_result",
          "data": {
            "text/plain": [
              "(array([ 297.,   23.,   30.,   36.,   43., 5392., 6692., 4064., 1664.,\n",
              "        1916.]),\n",
              " array([ 0.,  1.,  2.,  3.,  4.,  5.,  6.,  7.,  8.,  9., 10.]),\n",
              " <a list of 10 Patch objects>)"
            ]
          },
          "metadata": {
            "tags": []
          },
          "execution_count": 77
        },
        {
          "output_type": "display_data",
          "data": {
            "image/png": "[encoded data removed]",
            "text/plain": [
              "<Figure size 432x288 with 1 Axes>"
            ]
          },
          "metadata": {
            "tags": [],
            "needs_background": "light"
          }
        }
      ]
    },
    {
      "cell_type": "markdown",
      "metadata": {
        "id": "WfiyawqIpCLo",
        "colab_type": "text"
      },
      "source": [
        "A média e a mediana de Geografia tiveram valores muito parecidos, decidiu-se por imputar a média."
      ]
    },
    {
      "cell_type": "code",
      "metadata": {
        "id": "PjmdSHWvyT6d",
        "colab_type": "code",
        "colab": {}
      },
      "source": [
        "imputacao_geo = new_df['Geografia'].fillna(media_geo, inplace=True)"
      ],
      "execution_count": 0,
      "outputs": []
    },
    {
      "cell_type": "markdown",
      "metadata": {
        "id": "v6-0m8thpOeM",
        "colab_type": "text"
      },
      "source": [
        "* Verificando se ainda há valores nulos:"
      ]
    },
    {
      "cell_type": "code",
      "metadata": {
        "id": "l7tSVivPzJX-",
        "colab_type": "code",
        "outputId": "eef01fd9-70dc-4f98-b1fb-972a056731d7",
        "colab": {
          "base_uri": "https://localhost:8080/",
          "height": 35
        }
      },
      "source": [
        "new_df.Geografia.isna().sum()"
      ],
      "execution_count": 0,
      "outputs": [
        {
          "output_type": "execute_result",
          "data": {
            "text/plain": [
              "0"
            ]
          },
          "metadata": {
            "tags": []
          },
          "execution_count": 80
        }
      ]
    },
    {
      "cell_type": "markdown",
      "metadata": {
        "id": "4SeQe0IUzfpM",
        "colab_type": "text"
      },
      "source": [
        "História:"
      ]
    },
    {
      "cell_type": "markdown",
      "metadata": {
        "id": "nXLMrXSwpSNa",
        "colab_type": "text"
      },
      "source": [
        "* Verificando a média de História:"
      ]
    },
    {
      "cell_type": "code",
      "metadata": {
        "id": "7-9fpTBvzTe8",
        "colab_type": "code",
        "outputId": "f24af1e6-0790-400d-82c8-5280e30f5a30",
        "colab": {
          "base_uri": "https://localhost:8080/",
          "height": 35
        }
      },
      "source": [
        "media_historia = new_df['História'].mean()\n",
        "\n",
        "print(media_historia)"
      ],
      "execution_count": 0,
      "outputs": [
        {
          "output_type": "stream",
          "text": [
            "6.376820880975227\n"
          ],
          "name": "stdout"
        }
      ]
    },
    {
      "cell_type": "markdown",
      "metadata": {
        "id": "oUXOvucPpWC2",
        "colab_type": "text"
      },
      "source": [
        "* Verificando a mediana:"
      ]
    },
    {
      "cell_type": "code",
      "metadata": {
        "id": "Z3nseLqLzp0Q",
        "colab_type": "code",
        "outputId": "2942c3c3-a1bd-4380-8d38-9daa1eb00850",
        "colab": {
          "base_uri": "https://localhost:8080/",
          "height": 35
        }
      },
      "source": [
        "mediana_historia = new_df['História'].median()\n",
        "\n",
        "print(mediana_historia)"
      ],
      "execution_count": 0,
      "outputs": [
        {
          "output_type": "stream",
          "text": [
            "6.0\n"
          ],
          "name": "stdout"
        }
      ]
    },
    {
      "cell_type": "markdown",
      "metadata": {
        "id": "VuEBxu6Cp68u",
        "colab_type": "text"
      },
      "source": [
        "* Verificando a distribuição dos dados por meio de um histograma:"
      ]
    },
    {
      "cell_type": "code",
      "metadata": {
        "id": "jnX2EiUazyse",
        "colab_type": "code",
        "outputId": "6817e096-0fd9-4f21-c87c-76fbcf8edb5e",
        "colab": {
          "base_uri": "https://localhost:8080/",
          "height": 338
        }
      },
      "source": [
        "plt.figure()\n",
        "plt.hist(new_df['História'])"
      ],
      "execution_count": 0,
      "outputs": [
        {
          "output_type": "execute_result",
          "data": {
            "text/plain": [
              "(array([ 449.,   35.,   42.,   61.,   42., 6289., 6610., 3564., 1279.,\n",
              "        1796.]),\n",
              " array([ 0.,  1.,  2.,  3.,  4.,  5.,  6.,  7.,  8.,  9., 10.]),\n",
              " <a list of 10 Patch objects>)"
            ]
          },
          "metadata": {
            "tags": []
          },
          "execution_count": 85
        },
        {
          "output_type": "display_data",
          "data": {
            "image/png": "[encoded data removed]",
            "text/plain": [
              "<Figure size 432x288 with 1 Axes>"
            ]
          },
          "metadata": {
            "tags": [],
            "needs_background": "light"
          }
        }
      ]
    },
    {
      "cell_type": "markdown",
      "metadata": {
        "id": "ffu__dcLpg2G",
        "colab_type": "text"
      },
      "source": [
        "Decidiu-se pela imputação da mediana das notas de História nos valores nulos, pois percebeu-se que se trata de uma distribuição assimétrica à direita."
      ]
    },
    {
      "cell_type": "code",
      "metadata": {
        "id": "f4aSXcnl0AwJ",
        "colab_type": "code",
        "colab": {}
      },
      "source": [
        "imputacao_historia = new_df['História'].fillna(mediana_historia, inplace=True)"
      ],
      "execution_count": 0,
      "outputs": []
    },
    {
      "cell_type": "markdown",
      "metadata": {
        "id": "O3gWgi6FpmAe",
        "colab_type": "text"
      },
      "source": [
        "* Verificando se ainda há valores nulos: "
      ]
    },
    {
      "cell_type": "code",
      "metadata": {
        "id": "B9UfwHb_0MCa",
        "colab_type": "code",
        "outputId": "76527731-85da-495a-d595-d6c3c5e0db58",
        "colab": {
          "base_uri": "https://localhost:8080/",
          "height": 35
        }
      },
      "source": [
        "new_df['História'].isna().sum()"
      ],
      "execution_count": 0,
      "outputs": [
        {
          "output_type": "execute_result",
          "data": {
            "text/plain": [
              "0"
            ]
          },
          "metadata": {
            "tags": []
          },
          "execution_count": 87
        }
      ]
    },
    {
      "cell_type": "markdown",
      "metadata": {
        "id": "5KINF2hO0ciO",
        "colab_type": "text"
      },
      "source": [
        "Língua Portuguesa:"
      ]
    },
    {
      "cell_type": "markdown",
      "metadata": {
        "id": "sQX9EpFBppW4",
        "colab_type": "text"
      },
      "source": [
        "* Verificando a média de Língua Portuguesa:"
      ]
    },
    {
      "cell_type": "code",
      "metadata": {
        "id": "IRRlFRd80Sag",
        "colab_type": "code",
        "outputId": "53446126-86bb-41e6-de45-1ff535c2d051",
        "colab": {
          "base_uri": "https://localhost:8080/",
          "height": 35
        }
      },
      "source": [
        "media_lp = new_df['Língua Portuguesa'].mean()\n",
        "\n",
        "print(media_lp)"
      ],
      "execution_count": 0,
      "outputs": [
        {
          "output_type": "stream",
          "text": [
            "6.11031632819553\n"
          ],
          "name": "stdout"
        }
      ]
    },
    {
      "cell_type": "markdown",
      "metadata": {
        "id": "gUNqSqaKpwwJ",
        "colab_type": "text"
      },
      "source": [
        "* Verificando a mediana:"
      ]
    },
    {
      "cell_type": "code",
      "metadata": {
        "id": "vrnup4Dv0pA6",
        "colab_type": "code",
        "outputId": "bcdadbe2-74e6-47c3-ac0c-3f558b42ebd0",
        "colab": {
          "base_uri": "https://localhost:8080/",
          "height": 35
        }
      },
      "source": [
        "mediana_lp = new_df['Língua Portuguesa'].median()\n",
        "\n",
        "print(mediana_lp)"
      ],
      "execution_count": 0,
      "outputs": [
        {
          "output_type": "stream",
          "text": [
            "6.0\n"
          ],
          "name": "stdout"
        }
      ]
    },
    {
      "cell_type": "markdown",
      "metadata": {
        "id": "qEmWCdsYqKCI",
        "colab_type": "text"
      },
      "source": [
        "* Verificando a distribuição dos dados:"
      ]
    },
    {
      "cell_type": "code",
      "metadata": {
        "id": "6SPmwHRF0z_Q",
        "colab_type": "code",
        "outputId": "f502a963-f582-4fe8-e369-fd94d48f38fe",
        "colab": {
          "base_uri": "https://localhost:8080/",
          "height": 338
        }
      },
      "source": [
        "plt.figure()\n",
        "plt.hist(new_df['Língua Portuguesa'])"
      ],
      "execution_count": 0,
      "outputs": [
        {
          "output_type": "execute_result",
          "data": {
            "text/plain": [
              "(array([ 534.,   52.,   94.,  137.,   91., 7784., 6539., 2630.,  697.,\n",
              "        1610.]),\n",
              " array([ 0.,  1.,  2.,  3.,  4.,  5.,  6.,  7.,  8.,  9., 10.]),\n",
              " <a list of 10 Patch objects>)"
            ]
          },
          "metadata": {
            "tags": []
          },
          "execution_count": 92
        },
        {
          "output_type": "display_data",
          "data": {
            "image/png": "[encoded data removed]",
            "text/plain": [
              "<Figure size 432x288 with 1 Axes>"
            ]
          },
          "metadata": {
            "tags": [],
            "needs_background": "light"
          }
        }
      ]
    },
    {
      "cell_type": "markdown",
      "metadata": {
        "id": "BhyTwipIp0zV",
        "colab_type": "text"
      },
      "source": [
        "Decidiu-se pela imputação da mediana das notas de Língua Portuguesa nos valores nulos, pois percebeu-se que se trata de uma distribuição assimétrica à direita."
      ]
    },
    {
      "cell_type": "code",
      "metadata": {
        "id": "5P9YsJ6c09JL",
        "colab_type": "code",
        "colab": {}
      },
      "source": [
        "imputacao_lp = new_df['Língua Portuguesa'].fillna(mediana_lp, inplace=True)"
      ],
      "execution_count": 0,
      "outputs": []
    },
    {
      "cell_type": "markdown",
      "metadata": {
        "id": "jbMEpKMFqZPV",
        "colab_type": "text"
      },
      "source": [
        "* Verificando se ainda há valores nulos:"
      ]
    },
    {
      "cell_type": "code",
      "metadata": {
        "id": "PnHrY7ah1G0o",
        "colab_type": "code",
        "outputId": "8230a89b-91ce-49f6-a023-e01802b557a7",
        "colab": {
          "base_uri": "https://localhost:8080/",
          "height": 35
        }
      },
      "source": [
        "new_df['Língua Portuguesa'].isna().sum()"
      ],
      "execution_count": 0,
      "outputs": [
        {
          "output_type": "execute_result",
          "data": {
            "text/plain": [
              "0"
            ]
          },
          "metadata": {
            "tags": []
          },
          "execution_count": 94
        }
      ]
    },
    {
      "cell_type": "markdown",
      "metadata": {
        "id": "zngi5XSM1vrp",
        "colab_type": "text"
      },
      "source": [
        "Matemática:"
      ]
    },
    {
      "cell_type": "markdown",
      "metadata": {
        "id": "lBVMojJaqdW8",
        "colab_type": "text"
      },
      "source": [
        "* Verificando a média:"
      ]
    },
    {
      "cell_type": "code",
      "metadata": {
        "id": "FR2c2o_e1WFH",
        "colab_type": "code",
        "outputId": "801ee4d4-4931-429c-9fff-33d5c4ab3f93",
        "colab": {
          "base_uri": "https://localhost:8080/",
          "height": 35
        }
      },
      "source": [
        "media_mat = new_df['Matemática'].mean()\n",
        "\n",
        "print(media_mat)"
      ],
      "execution_count": 0,
      "outputs": [
        {
          "output_type": "stream",
          "text": [
            "5.875802872230918\n"
          ],
          "name": "stdout"
        }
      ]
    },
    {
      "cell_type": "markdown",
      "metadata": {
        "id": "8GyPtuUZqixl",
        "colab_type": "text"
      },
      "source": [
        "* Verificando a mediana: "
      ]
    },
    {
      "cell_type": "code",
      "metadata": {
        "id": "WWBHnDB411yy",
        "colab_type": "code",
        "outputId": "1203284f-7a67-483e-c1f2-0a38339fdf85",
        "colab": {
          "base_uri": "https://localhost:8080/",
          "height": 35
        }
      },
      "source": [
        "mediana_mat = new_df['Matemática'].median()\n",
        "\n",
        "print(mediana_mat)"
      ],
      "execution_count": 0,
      "outputs": [
        {
          "output_type": "stream",
          "text": [
            "5.5\n"
          ],
          "name": "stdout"
        }
      ]
    },
    {
      "cell_type": "markdown",
      "metadata": {
        "id": "HRchRDHIqnVG",
        "colab_type": "text"
      },
      "source": [
        "* Verificando a distribuição dos dados:"
      ]
    },
    {
      "cell_type": "code",
      "metadata": {
        "id": "W8dd9_8t2Ez1",
        "colab_type": "code",
        "outputId": "7e4c5a24-aa51-48d0-8593-00bfcf9f8ba9",
        "colab": {
          "base_uri": "https://localhost:8080/",
          "height": 338
        }
      },
      "source": [
        "plt.figure()\n",
        "plt.hist(new_df['Matemática'])"
      ],
      "execution_count": 0,
      "outputs": [
        {
          "output_type": "execute_result",
          "data": {
            "text/plain": [
              "(array([ 710.,  112.,  139.,  133.,  151., 9511., 5288., 1909.,  560.,\n",
              "        1648.]),\n",
              " array([ 0.,  1.,  2.,  3.,  4.,  5.,  6.,  7.,  8.,  9., 10.]),\n",
              " <a list of 10 Patch objects>)"
            ]
          },
          "metadata": {
            "tags": []
          },
          "execution_count": 98
        },
        {
          "output_type": "display_data",
          "data": {
            "image/png": "[encoded data removed]",
            "text/plain": [
              "<Figure size 432x288 with 1 Axes>"
            ]
          },
          "metadata": {
            "tags": [],
            "needs_background": "light"
          }
        }
      ]
    },
    {
      "cell_type": "markdown",
      "metadata": {
        "id": "8ZScgUIpqqtH",
        "colab_type": "text"
      },
      "source": [
        "Decidiu-se pela imputação da mediana das notas de Matemática nos valores nulos, pois percebeu-se que se trata de uma distribuição assimétrica à direita."
      ]
    },
    {
      "cell_type": "code",
      "metadata": {
        "id": "4ExSI-ne2PfA",
        "colab_type": "code",
        "colab": {}
      },
      "source": [
        "imputacao_mat = new_df['Matemática'].fillna(mediana_mat, inplace=True)"
      ],
      "execution_count": 0,
      "outputs": []
    },
    {
      "cell_type": "markdown",
      "metadata": {
        "id": "Bo8nXVDiqy6o",
        "colab_type": "text"
      },
      "source": [
        "* Verificando se ainda há valores nulos:"
      ]
    },
    {
      "cell_type": "code",
      "metadata": {
        "id": "ziPRFRNx24-k",
        "colab_type": "code",
        "outputId": "a3014a2f-b8a5-4a9e-d4e5-0a5c248ad8a8",
        "colab": {
          "base_uri": "https://localhost:8080/",
          "height": 35
        }
      },
      "source": [
        "new_df['Matemática'].isna().sum()"
      ],
      "execution_count": 0,
      "outputs": [
        {
          "output_type": "execute_result",
          "data": {
            "text/plain": [
              "0"
            ]
          },
          "metadata": {
            "tags": []
          },
          "execution_count": 160
        }
      ]
    },
    {
      "cell_type": "markdown",
      "metadata": {
        "id": "Yo8fbDmk3wgk",
        "colab_type": "text"
      },
      "source": [
        "Química:"
      ]
    },
    {
      "cell_type": "markdown",
      "metadata": {
        "id": "wDLAgLUfq2s0",
        "colab_type": "text"
      },
      "source": [
        "* Verificando a média:"
      ]
    },
    {
      "cell_type": "code",
      "metadata": {
        "id": "S38FKDR22_5W",
        "colab_type": "code",
        "outputId": "ea8dcbf1-d441-4421-9fe6-b115cdf287bd",
        "colab": {
          "base_uri": "https://localhost:8080/",
          "height": 35
        }
      },
      "source": [
        "media_quimica = new_df['Química'].mean()\n",
        "\n",
        "print(media_quimica)"
      ],
      "execution_count": 0,
      "outputs": [
        {
          "output_type": "stream",
          "text": [
            "6.037697257304437\n"
          ],
          "name": "stdout"
        }
      ]
    },
    {
      "cell_type": "markdown",
      "metadata": {
        "id": "5lCATzZFq5ad",
        "colab_type": "text"
      },
      "source": [
        "* Verificando a mediana: "
      ]
    },
    {
      "cell_type": "code",
      "metadata": {
        "id": "YvdmmTnF330k",
        "colab_type": "code",
        "outputId": "85e0d76f-fc8b-4492-b927-8c680cb22c38",
        "colab": {
          "base_uri": "https://localhost:8080/",
          "height": 35
        }
      },
      "source": [
        "mediana_quimica = new_df['Química'].median()\n",
        "\n",
        "print(mediana_quimica)"
      ],
      "execution_count": 0,
      "outputs": [
        {
          "output_type": "stream",
          "text": [
            "6.0\n"
          ],
          "name": "stdout"
        }
      ]
    },
    {
      "cell_type": "markdown",
      "metadata": {
        "id": "JVREgeGdq9UO",
        "colab_type": "text"
      },
      "source": [
        "* Verificando a distribuição das notas:"
      ]
    },
    {
      "cell_type": "code",
      "metadata": {
        "id": "mQg0Xi-G45cp",
        "colab_type": "code",
        "outputId": "43ced9a7-4102-48dc-9b3c-3d46cd901b69",
        "colab": {
          "base_uri": "https://localhost:8080/",
          "height": 338
        }
      },
      "source": [
        "plt.figure()\n",
        "plt.hist(new_df['Química'])"
      ],
      "execution_count": 0,
      "outputs": [
        {
          "output_type": "execute_result",
          "data": {
            "text/plain": [
              "(array([ 614.,  102.,  114.,  114.,   77., 8527., 5706., 2409.,  819.,\n",
              "        1687.]),\n",
              " array([ 0.,  1.,  2.,  3.,  4.,  5.,  6.,  7.,  8.,  9., 10.]),\n",
              " <a list of 10 Patch objects>)"
            ]
          },
          "metadata": {
            "tags": []
          },
          "execution_count": 106
        },
        {
          "output_type": "display_data",
          "data": {
            "image/png": "[encoded data removed]",
            "text/plain": [
              "<Figure size 432x288 with 1 Axes>"
            ]
          },
          "metadata": {
            "tags": [],
            "needs_background": "light"
          }
        }
      ]
    },
    {
      "cell_type": "markdown",
      "metadata": {
        "id": "SWTsmx2XrBWd",
        "colab_type": "text"
      },
      "source": [
        "Apesar de a média e a mediana terem valores muito parecidos, decidiu-se pela imputação da mediana das notas de Química nos valores nulos, pois percebeu-se que se trata de uma distribuição assimétrica à direita."
      ]
    },
    {
      "cell_type": "code",
      "metadata": {
        "id": "vVw31PmL4kWy",
        "colab_type": "code",
        "colab": {}
      },
      "source": [
        "imputacao_quimica = new_df['Química'].fillna(mediana_quimica, inplace=True)"
      ],
      "execution_count": 0,
      "outputs": []
    },
    {
      "cell_type": "markdown",
      "metadata": {
        "id": "cC5gLGiHrKkP",
        "colab_type": "text"
      },
      "source": [
        "* Verificando se ainda há valores nulos:"
      ]
    },
    {
      "cell_type": "code",
      "metadata": {
        "id": "HjhpYo6T41QP",
        "colab_type": "code",
        "outputId": "416b93c2-7a6d-46fa-c841-109ec25cc700",
        "colab": {
          "base_uri": "https://localhost:8080/",
          "height": 35
        }
      },
      "source": [
        "new_df['Química'].isna().sum()"
      ],
      "execution_count": 0,
      "outputs": [
        {
          "output_type": "execute_result",
          "data": {
            "text/plain": [
              "9"
            ]
          },
          "metadata": {
            "tags": []
          },
          "execution_count": 162
        }
      ]
    },
    {
      "cell_type": "markdown",
      "metadata": {
        "id": "-4gdyV1H5W1B",
        "colab_type": "text"
      },
      "source": [
        "# Descrevendo new_df (principais indicadores estatísticos)."
      ]
    },
    {
      "cell_type": "code",
      "metadata": {
        "id": "IW98vRd65CjP",
        "colab_type": "code",
        "outputId": "7075bee0-862a-4731-d5a3-0b77e8f1ed96",
        "colab": {
          "base_uri": "https://localhost:8080/",
          "height": 332
        }
      },
      "source": [
        "new_df.describe().transpose()"
      ],
      "execution_count": 0,
      "outputs": [
        {
          "output_type": "execute_result",
          "data": {
            "text/html": [
              "<div>\n",
              "<style scoped>\n",
              "    .dataframe tbody tr th:only-of-type {\n",
              "        vertical-align: middle;\n",
              "    }\n",
              "\n",
              "    .dataframe tbody tr th {\n",
              "        vertical-align: top;\n",
              "    }\n",
              "\n",
              "    .dataframe thead th {\n",
              "        text-align: right;\n",
              "    }\n",
              "</style>\n",
              "<table border=\"1\" class=\"dataframe\">\n",
              "  <thead>\n",
              "    <tr style=\"text-align: right;\">\n",
              "      <th></th>\n",
              "      <th>count</th>\n",
              "      <th>mean</th>\n",
              "      <th>std</th>\n",
              "      <th>min</th>\n",
              "      <th>25%</th>\n",
              "      <th>50%</th>\n",
              "      <th>75%</th>\n",
              "      <th>max</th>\n",
              "    </tr>\n",
              "    <tr>\n",
              "      <th>disciplina</th>\n",
              "      <th></th>\n",
              "      <th></th>\n",
              "      <th></th>\n",
              "      <th></th>\n",
              "      <th></th>\n",
              "      <th></th>\n",
              "      <th></th>\n",
              "      <th></th>\n",
              "    </tr>\n",
              "  </thead>\n",
              "  <tbody>\n",
              "    <tr>\n",
              "      <th>cod_aluno</th>\n",
              "      <td>20169.0</td>\n",
              "      <td>1.308996e+16</td>\n",
              "      <td>5.307924e+18</td>\n",
              "      <td>-9.222315e+18</td>\n",
              "      <td>-4.581947e+18</td>\n",
              "      <td>-2.718381e+16</td>\n",
              "      <td>4.595796e+18</td>\n",
              "      <td>9.219684e+18</td>\n",
              "    </tr>\n",
              "    <tr>\n",
              "      <th>Biologia</th>\n",
              "      <td>20169.0</td>\n",
              "      <td>6.300779e+00</td>\n",
              "      <td>1.701298e+00</td>\n",
              "      <td>0.000000e+00</td>\n",
              "      <td>5.500000e+00</td>\n",
              "      <td>6.000000e+00</td>\n",
              "      <td>7.000000e+00</td>\n",
              "      <td>1.000000e+01</td>\n",
              "    </tr>\n",
              "    <tr>\n",
              "      <th>Física</th>\n",
              "      <td>20169.0</td>\n",
              "      <td>6.146949e+00</td>\n",
              "      <td>1.749569e+00</td>\n",
              "      <td>0.000000e+00</td>\n",
              "      <td>5.000000e+00</td>\n",
              "      <td>6.000000e+00</td>\n",
              "      <td>7.000000e+00</td>\n",
              "      <td>1.000000e+01</td>\n",
              "    </tr>\n",
              "    <tr>\n",
              "      <th>Geografia</th>\n",
              "      <td>20169.0</td>\n",
              "      <td>6.563196e+00</td>\n",
              "      <td>1.601888e+00</td>\n",
              "      <td>0.000000e+00</td>\n",
              "      <td>5.500000e+00</td>\n",
              "      <td>6.500000e+00</td>\n",
              "      <td>7.500000e+00</td>\n",
              "      <td>1.000000e+01</td>\n",
              "    </tr>\n",
              "    <tr>\n",
              "      <th>História</th>\n",
              "      <td>20169.0</td>\n",
              "      <td>6.376821e+00</td>\n",
              "      <td>1.698153e+00</td>\n",
              "      <td>0.000000e+00</td>\n",
              "      <td>5.500000e+00</td>\n",
              "      <td>6.000000e+00</td>\n",
              "      <td>7.000000e+00</td>\n",
              "      <td>1.000000e+01</td>\n",
              "    </tr>\n",
              "    <tr>\n",
              "      <th>Língua Portuguesa</th>\n",
              "      <td>20169.0</td>\n",
              "      <td>6.110316e+00</td>\n",
              "      <td>1.726796e+00</td>\n",
              "      <td>0.000000e+00</td>\n",
              "      <td>5.500000e+00</td>\n",
              "      <td>6.000000e+00</td>\n",
              "      <td>6.500000e+00</td>\n",
              "      <td>1.000000e+01</td>\n",
              "    </tr>\n",
              "    <tr>\n",
              "      <th>Matemática</th>\n",
              "      <td>20169.0</td>\n",
              "      <td>5.875803e+00</td>\n",
              "      <td>1.852593e+00</td>\n",
              "      <td>0.000000e+00</td>\n",
              "      <td>5.000000e+00</td>\n",
              "      <td>5.500000e+00</td>\n",
              "      <td>6.500000e+00</td>\n",
              "      <td>1.000000e+01</td>\n",
              "    </tr>\n",
              "    <tr>\n",
              "      <th>Química</th>\n",
              "      <td>20169.0</td>\n",
              "      <td>6.037697e+00</td>\n",
              "      <td>1.814025e+00</td>\n",
              "      <td>0.000000e+00</td>\n",
              "      <td>5.000000e+00</td>\n",
              "      <td>6.000000e+00</td>\n",
              "      <td>6.500000e+00</td>\n",
              "      <td>1.000000e+01</td>\n",
              "    </tr>\n",
              "  </tbody>\n",
              "</table>\n",
              "</div>"
            ],
            "text/plain": [
              "                     count          mean  ...           75%           max\n",
              "disciplina                                ...                            \n",
              "cod_aluno          20169.0  1.308996e+16  ...  4.595796e+18  9.219684e+18\n",
              "Biologia           20169.0  6.300779e+00  ...  7.000000e+00  1.000000e+01\n",
              "Física             20169.0  6.146949e+00  ...  7.000000e+00  1.000000e+01\n",
              "Geografia          20169.0  6.563196e+00  ...  7.500000e+00  1.000000e+01\n",
              "História           20169.0  6.376821e+00  ...  7.000000e+00  1.000000e+01\n",
              "Língua Portuguesa  20169.0  6.110316e+00  ...  6.500000e+00  1.000000e+01\n",
              "Matemática         20169.0  5.875803e+00  ...  6.500000e+00  1.000000e+01\n",
              "Química            20169.0  6.037697e+00  ...  6.500000e+00  1.000000e+01\n",
              "\n",
              "[8 rows x 8 columns]"
            ]
          },
          "metadata": {
            "tags": []
          },
          "execution_count": 110
        }
      ]
    },
    {
      "cell_type": "markdown",
      "metadata": {
        "id": "MUvi-94V50Dm",
        "colab_type": "text"
      },
      "source": [
        "# Qual a correlação entre as notas de cada matéria? É possível dizer que existe uma correlação forte entre química e física?"
      ]
    },
    {
      "cell_type": "code",
      "metadata": {
        "id": "luIQ7ATx5eD_",
        "colab_type": "code",
        "outputId": "59a3ea9f-7682-4e48-cb1e-4dc4429de3d9",
        "colab": {
          "base_uri": "https://localhost:8080/",
          "height": 332
        }
      },
      "source": [
        "new_df.corr(method='pearson')"
      ],
      "execution_count": 0,
      "outputs": [
        {
          "output_type": "execute_result",
          "data": {
            "text/html": [
              "<div>\n",
              "<style scoped>\n",
              "    .dataframe tbody tr th:only-of-type {\n",
              "        vertical-align: middle;\n",
              "    }\n",
              "\n",
              "    .dataframe tbody tr th {\n",
              "        vertical-align: top;\n",
              "    }\n",
              "\n",
              "    .dataframe thead th {\n",
              "        text-align: right;\n",
              "    }\n",
              "</style>\n",
              "<table border=\"1\" class=\"dataframe\">\n",
              "  <thead>\n",
              "    <tr style=\"text-align: right;\">\n",
              "      <th>disciplina</th>\n",
              "      <th>cod_aluno</th>\n",
              "      <th>Biologia</th>\n",
              "      <th>Física</th>\n",
              "      <th>Geografia</th>\n",
              "      <th>História</th>\n",
              "      <th>Língua Portuguesa</th>\n",
              "      <th>Matemática</th>\n",
              "      <th>Química</th>\n",
              "    </tr>\n",
              "    <tr>\n",
              "      <th>disciplina</th>\n",
              "      <th></th>\n",
              "      <th></th>\n",
              "      <th></th>\n",
              "      <th></th>\n",
              "      <th></th>\n",
              "      <th></th>\n",
              "      <th></th>\n",
              "      <th></th>\n",
              "    </tr>\n",
              "  </thead>\n",
              "  <tbody>\n",
              "    <tr>\n",
              "      <th>cod_aluno</th>\n",
              "      <td>1.000000</td>\n",
              "      <td>-0.001487</td>\n",
              "      <td>-0.014336</td>\n",
              "      <td>-0.002759</td>\n",
              "      <td>-0.004731</td>\n",
              "      <td>-0.001521</td>\n",
              "      <td>-0.002225</td>\n",
              "      <td>-0.006042</td>\n",
              "    </tr>\n",
              "    <tr>\n",
              "      <th>Biologia</th>\n",
              "      <td>-0.001487</td>\n",
              "      <td>1.000000</td>\n",
              "      <td>0.669739</td>\n",
              "      <td>0.659209</td>\n",
              "      <td>0.695525</td>\n",
              "      <td>0.710786</td>\n",
              "      <td>0.704608</td>\n",
              "      <td>0.726138</td>\n",
              "    </tr>\n",
              "    <tr>\n",
              "      <th>Física</th>\n",
              "      <td>-0.014336</td>\n",
              "      <td>0.669739</td>\n",
              "      <td>1.000000</td>\n",
              "      <td>0.646658</td>\n",
              "      <td>0.667726</td>\n",
              "      <td>0.684583</td>\n",
              "      <td>0.706539</td>\n",
              "      <td>0.689497</td>\n",
              "    </tr>\n",
              "    <tr>\n",
              "      <th>Geografia</th>\n",
              "      <td>-0.002759</td>\n",
              "      <td>0.659209</td>\n",
              "      <td>0.646658</td>\n",
              "      <td>1.000000</td>\n",
              "      <td>0.675112</td>\n",
              "      <td>0.687012</td>\n",
              "      <td>0.657860</td>\n",
              "      <td>0.651443</td>\n",
              "    </tr>\n",
              "    <tr>\n",
              "      <th>História</th>\n",
              "      <td>-0.004731</td>\n",
              "      <td>0.695525</td>\n",
              "      <td>0.667726</td>\n",
              "      <td>0.675112</td>\n",
              "      <td>1.000000</td>\n",
              "      <td>0.717950</td>\n",
              "      <td>0.705926</td>\n",
              "      <td>0.707876</td>\n",
              "    </tr>\n",
              "    <tr>\n",
              "      <th>Língua Portuguesa</th>\n",
              "      <td>-0.001521</td>\n",
              "      <td>0.710786</td>\n",
              "      <td>0.684583</td>\n",
              "      <td>0.687012</td>\n",
              "      <td>0.717950</td>\n",
              "      <td>1.000000</td>\n",
              "      <td>0.733266</td>\n",
              "      <td>0.746612</td>\n",
              "    </tr>\n",
              "    <tr>\n",
              "      <th>Matemática</th>\n",
              "      <td>-0.002225</td>\n",
              "      <td>0.704608</td>\n",
              "      <td>0.706539</td>\n",
              "      <td>0.657860</td>\n",
              "      <td>0.705926</td>\n",
              "      <td>0.733266</td>\n",
              "      <td>1.000000</td>\n",
              "      <td>0.745203</td>\n",
              "    </tr>\n",
              "    <tr>\n",
              "      <th>Química</th>\n",
              "      <td>-0.006042</td>\n",
              "      <td>0.726138</td>\n",
              "      <td>0.689497</td>\n",
              "      <td>0.651443</td>\n",
              "      <td>0.707876</td>\n",
              "      <td>0.746612</td>\n",
              "      <td>0.745203</td>\n",
              "      <td>1.000000</td>\n",
              "    </tr>\n",
              "  </tbody>\n",
              "</table>\n",
              "</div>"
            ],
            "text/plain": [
              "disciplina         cod_aluno  Biologia  ...  Matemática   Química\n",
              "disciplina                              ...                      \n",
              "cod_aluno           1.000000 -0.001487  ...   -0.002225 -0.006042\n",
              "Biologia           -0.001487  1.000000  ...    0.704608  0.726138\n",
              "Física             -0.014336  0.669739  ...    0.706539  0.689497\n",
              "Geografia          -0.002759  0.659209  ...    0.657860  0.651443\n",
              "História           -0.004731  0.695525  ...    0.705926  0.707876\n",
              "Língua Portuguesa  -0.001521  0.710786  ...    0.733266  0.746612\n",
              "Matemática         -0.002225  0.704608  ...    1.000000  0.745203\n",
              "Química            -0.006042  0.726138  ...    0.745203  1.000000\n",
              "\n",
              "[8 rows x 8 columns]"
            ]
          },
          "metadata": {
            "tags": []
          },
          "execution_count": 111
        }
      ]
    },
    {
      "cell_type": "markdown",
      "metadata": {
        "id": "0K-RKwctsADB",
        "colab_type": "text"
      },
      "source": [
        "Existe uma correlação positiva entre Química e Física, porém, pode ser considerada uma correlação moderada."
      ]
    },
    {
      "cell_type": "markdown",
      "metadata": {
        "id": "gmtiH2s_6zL3",
        "colab_type": "text"
      },
      "source": [
        "# Demonstrando em um só gráfico as notas de química e língua portuguesa de todos os alunos."
      ]
    },
    {
      "cell_type": "code",
      "metadata": {
        "id": "1TgxbRyT6Uuf",
        "colab_type": "code",
        "outputId": "3db05f6d-ebaa-4292-b9f6-034d41c97b99",
        "colab": {
          "base_uri": "https://localhost:8080/",
          "height": 499
        }
      },
      "source": [
        "plt.figure(figsize=(15,8))\n",
        "plt.title('Notas de Língua Portuguesa e  de Química', fontdict={'color': 'black'})\n",
        "plt.hist(x = new_df['Língua Portuguesa'],color='tab:red',alpha=0.6,label='Língua Portuguesa')\n",
        "plt.axvline(x = new_df['Língua Portuguesa'].mean(), color= 'tab:red',label='Média: Língua Portuguesa')\n",
        "plt.axvline(x = new_df['Química'].mean(), color= 'tab:blue',label='Média: Química')\n",
        "plt.hist(x = new_df['Química'],color='tab:blue',alpha=0.6,label='Química')\n",
        "plt.legend()\n",
        "plt.show()"
      ],
      "execution_count": 0,
      "outputs": [
        {
          "output_type": "display_data",
          "data": {
            "image/png": "[encoded data removed]",
            "text/plain": [
              "<Figure size 1080x576 with 1 Axes>"
            ]
          },
          "metadata": {
            "tags": [],
            "needs_background": "light"
          }
        }
      ]
    },
    {
      "cell_type": "markdown",
      "metadata": {
        "id": "MCJ6hOAJB2Fq",
        "colab_type": "text"
      },
      "source": [
        "# A distribuição de notas de história é simétrica? "
      ]
    },
    {
      "cell_type": "code",
      "metadata": {
        "id": "NLuoTxlZ-aJQ",
        "colab_type": "code",
        "outputId": "ae44f644-9e2c-45d3-b91e-697c93ecff3d",
        "colab": {
          "base_uri": "https://localhost:8080/",
          "height": 499
        }
      },
      "source": [
        "plt.figure(figsize=(15,8))\n",
        "plt.title('Notas de História', fontdict={'color': 'black'})\n",
        "plt.hist(x = new_df['História'],color='tab:orange',alpha=0.6,label='História')\n",
        "plt.axvline(x = new_df['História'].mean(), color= 'tab:red',label='Média: História')\n",
        "plt.legend()\n",
        "plt.show()"
      ],
      "execution_count": 0,
      "outputs": [
        {
          "output_type": "display_data",
          "data": {
            "image/png": "[encoded data removed]",
            "text/plain": [
              "<Figure size 1080x576 with 1 Axes>"
            ]
          },
          "metadata": {
            "tags": [],
            "needs_background": "light"
          }
        }
      ]
    },
    {
      "cell_type": "code",
      "metadata": {
        "id": "bzlcC-nqEpFY",
        "colab_type": "code",
        "outputId": "9f9ebdf0-cdc5-43f3-869c-e30b7bdff13f",
        "colab": {
          "base_uri": "https://localhost:8080/",
          "height": 35
        }
      },
      "source": [
        "new_df['História'].skew()"
      ],
      "execution_count": 0,
      "outputs": [
        {
          "output_type": "execute_result",
          "data": {
            "text/plain": [
              "-0.49214276701909115"
            ]
          },
          "metadata": {
            "tags": []
          },
          "execution_count": 125
        }
      ]
    },
    {
      "cell_type": "markdown",
      "metadata": {
        "id": "LFhMfQNxtZnx",
        "colab_type": "text"
      },
      "source": [
        "A distribuição das notas de História não é simétrica, trata-se de uma distribuição assimétrica à direita, ou seja, trata-se de uma assimetria negativa."
      ]
    },
    {
      "cell_type": "markdown",
      "metadata": {
        "id": "Vv4t24MTIUfi",
        "colab_type": "text"
      },
      "source": [
        "# Plotando e interpretando um gráfico 'scatter' entre matemática e a média das notas das disciplinas [biologia, química e física]."
      ]
    },
    {
      "cell_type": "code",
      "metadata": {
        "id": "-d0Enti-GSK-",
        "colab_type": "code",
        "outputId": "e7b0facd-8ee9-4726-90dc-5d73c27f3687",
        "colab": {
          "base_uri": "https://localhost:8080/",
          "height": 499
        }
      },
      "source": [
        "new_df['media_quimica_fisica_biologia'] = new_df[['Química','Física','Biologia']].mean(axis=1)\n",
        "\n",
        "plt.figure(figsize=(15,8))\n",
        "plt.scatter(x=new_df['Matemática'],y=new_df['media_quimica_fisica_biologia'])\n",
        "plt.title('Scatter Plot Matemática e médias de Biologia, Química e Física', fontdict={'color': 'black'})\n",
        "plt.scatter(x=new_df['Matemática'],y=new_df['media_quimica_fisica_biologia'],alpha=0.7, label='x = Matemática\\n y = Médias de Biologia, Química e Física)')\n",
        "plt.legend()\n",
        "plt.show()"
      ],
      "execution_count": 0,
      "outputs": [
        {
          "output_type": "display_data",
          "data": {
            "image/png": "[encoded data removed]",
            "text/plain": [
              "<Figure size 1080x576 with 1 Axes>"
            ]
          },
          "metadata": {
            "tags": [],
            "needs_background": "light"
          }
        }
      ]
    },
    {
      "cell_type": "markdown",
      "metadata": {
        "id": "XVJWy62st-1v",
        "colab_type": "text"
      },
      "source": [
        "Pode-se perceber que não há uma distribuição linear entre os dados. Ainda, o eixo x representa as notas de Matemática, enquanto o eixo y representa as médias das notas de Biologia, Química e Física. Apesar de haver alguns outliers, por meio do gráfico é possível perceber que há alunos que tiram notas altas em matemática mas não nas outras matérias, e também há alunos que tiram notas altas nas outras matérias mas não em Matemática havendo, inclusive, uma grande concentração de zeros em Matamática."
      ]
    }
  ]
}